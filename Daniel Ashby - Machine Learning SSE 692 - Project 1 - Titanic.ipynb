{
 "cells": [
  {
   "cell_type": "markdown",
   "metadata": {},
   "source": [
    "# Problem Description\n",
    "Tackle the Titanic dataset. A great place to start is on Kaggle.\n",
    "\n",
    "### Notes on what I've done.\n",
    "I went to kaggle and signed up for the competition! Sounds like a good way to make the assignment a little more fun. Also, that gives me convenient access to their dataset and a set of rules to work from. So I downloaded the dataset and here we go!"
   ]
  },
  {
   "cell_type": "code",
   "execution_count": 2,
   "metadata": {
    "ExecuteTime": {
     "end_time": "2019-02-10T01:39:35.444166Z",
     "start_time": "2019-02-10T01:39:35.402108Z"
    }
   },
   "outputs": [
    {
     "data": {
      "text/html": [
       "<div>\n",
       "<style scoped>\n",
       "    .dataframe tbody tr th:only-of-type {\n",
       "        vertical-align: middle;\n",
       "    }\n",
       "\n",
       "    .dataframe tbody tr th {\n",
       "        vertical-align: top;\n",
       "    }\n",
       "\n",
       "    .dataframe thead th {\n",
       "        text-align: right;\n",
       "    }\n",
       "</style>\n",
       "<table border=\"1\" class=\"dataframe\">\n",
       "  <thead>\n",
       "    <tr style=\"text-align: right;\">\n",
       "      <th></th>\n",
       "      <th>PassengerId</th>\n",
       "      <th>Survived</th>\n",
       "      <th>Pclass</th>\n",
       "      <th>Name</th>\n",
       "      <th>Sex</th>\n",
       "      <th>Age</th>\n",
       "      <th>SibSp</th>\n",
       "      <th>Parch</th>\n",
       "      <th>Ticket</th>\n",
       "      <th>Fare</th>\n",
       "      <th>Cabin</th>\n",
       "      <th>Embarked</th>\n",
       "    </tr>\n",
       "  </thead>\n",
       "  <tbody>\n",
       "    <tr>\n",
       "      <th>0</th>\n",
       "      <td>1</td>\n",
       "      <td>0</td>\n",
       "      <td>3</td>\n",
       "      <td>Braund, Mr. Owen Harris</td>\n",
       "      <td>male</td>\n",
       "      <td>22.0</td>\n",
       "      <td>1</td>\n",
       "      <td>0</td>\n",
       "      <td>A/5 21171</td>\n",
       "      <td>7.2500</td>\n",
       "      <td>NaN</td>\n",
       "      <td>S</td>\n",
       "    </tr>\n",
       "    <tr>\n",
       "      <th>1</th>\n",
       "      <td>2</td>\n",
       "      <td>1</td>\n",
       "      <td>1</td>\n",
       "      <td>Cumings, Mrs. John Bradley (Florence Briggs Th...</td>\n",
       "      <td>female</td>\n",
       "      <td>38.0</td>\n",
       "      <td>1</td>\n",
       "      <td>0</td>\n",
       "      <td>PC 17599</td>\n",
       "      <td>71.2833</td>\n",
       "      <td>C85</td>\n",
       "      <td>C</td>\n",
       "    </tr>\n",
       "    <tr>\n",
       "      <th>2</th>\n",
       "      <td>3</td>\n",
       "      <td>1</td>\n",
       "      <td>3</td>\n",
       "      <td>Heikkinen, Miss. Laina</td>\n",
       "      <td>female</td>\n",
       "      <td>26.0</td>\n",
       "      <td>0</td>\n",
       "      <td>0</td>\n",
       "      <td>STON/O2. 3101282</td>\n",
       "      <td>7.9250</td>\n",
       "      <td>NaN</td>\n",
       "      <td>S</td>\n",
       "    </tr>\n",
       "    <tr>\n",
       "      <th>3</th>\n",
       "      <td>4</td>\n",
       "      <td>1</td>\n",
       "      <td>1</td>\n",
       "      <td>Futrelle, Mrs. Jacques Heath (Lily May Peel)</td>\n",
       "      <td>female</td>\n",
       "      <td>35.0</td>\n",
       "      <td>1</td>\n",
       "      <td>0</td>\n",
       "      <td>113803</td>\n",
       "      <td>53.1000</td>\n",
       "      <td>C123</td>\n",
       "      <td>S</td>\n",
       "    </tr>\n",
       "    <tr>\n",
       "      <th>4</th>\n",
       "      <td>5</td>\n",
       "      <td>0</td>\n",
       "      <td>3</td>\n",
       "      <td>Allen, Mr. William Henry</td>\n",
       "      <td>male</td>\n",
       "      <td>35.0</td>\n",
       "      <td>0</td>\n",
       "      <td>0</td>\n",
       "      <td>373450</td>\n",
       "      <td>8.0500</td>\n",
       "      <td>NaN</td>\n",
       "      <td>S</td>\n",
       "    </tr>\n",
       "  </tbody>\n",
       "</table>\n",
       "</div>"
      ],
      "text/plain": [
       "   PassengerId  Survived  Pclass  \\\n",
       "0            1         0       3   \n",
       "1            2         1       1   \n",
       "2            3         1       3   \n",
       "3            4         1       1   \n",
       "4            5         0       3   \n",
       "\n",
       "                                                Name     Sex   Age  SibSp  \\\n",
       "0                            Braund, Mr. Owen Harris    male  22.0      1   \n",
       "1  Cumings, Mrs. John Bradley (Florence Briggs Th...  female  38.0      1   \n",
       "2                             Heikkinen, Miss. Laina  female  26.0      0   \n",
       "3       Futrelle, Mrs. Jacques Heath (Lily May Peel)  female  35.0      1   \n",
       "4                           Allen, Mr. William Henry    male  35.0      0   \n",
       "\n",
       "   Parch            Ticket     Fare Cabin Embarked  \n",
       "0      0         A/5 21171   7.2500   NaN        S  \n",
       "1      0          PC 17599  71.2833   C85        C  \n",
       "2      0  STON/O2. 3101282   7.9250   NaN        S  \n",
       "3      0            113803  53.1000  C123        S  \n",
       "4      0            373450   8.0500   NaN        S  "
      ]
     },
     "execution_count": 2,
     "metadata": {},
     "output_type": "execute_result"
    }
   ],
   "source": [
    "import pandas\n",
    "\n",
    "raw_training = pandas.read_csv(\"titanic/train.csv\")\n",
    "raw_test = pandas.read_csv(\"titanic/test.csv\")\n",
    "example_output = pandas.read_csv(\"titanic/gender_submission.csv\")\n",
    "\n",
    "raw_training.head()"
   ]
  },
  {
   "cell_type": "code",
   "execution_count": 3,
   "metadata": {
    "ExecuteTime": {
     "end_time": "2019-02-10T01:39:35.456741Z",
     "start_time": "2019-02-10T01:39:35.445914Z"
    }
   },
   "outputs": [
    {
     "data": {
      "text/html": [
       "<div>\n",
       "<style scoped>\n",
       "    .dataframe tbody tr th:only-of-type {\n",
       "        vertical-align: middle;\n",
       "    }\n",
       "\n",
       "    .dataframe tbody tr th {\n",
       "        vertical-align: top;\n",
       "    }\n",
       "\n",
       "    .dataframe thead th {\n",
       "        text-align: right;\n",
       "    }\n",
       "</style>\n",
       "<table border=\"1\" class=\"dataframe\">\n",
       "  <thead>\n",
       "    <tr style=\"text-align: right;\">\n",
       "      <th></th>\n",
       "      <th>PassengerId</th>\n",
       "      <th>Pclass</th>\n",
       "      <th>Name</th>\n",
       "      <th>Sex</th>\n",
       "      <th>Age</th>\n",
       "      <th>SibSp</th>\n",
       "      <th>Parch</th>\n",
       "      <th>Ticket</th>\n",
       "      <th>Fare</th>\n",
       "      <th>Cabin</th>\n",
       "      <th>Embarked</th>\n",
       "    </tr>\n",
       "  </thead>\n",
       "  <tbody>\n",
       "    <tr>\n",
       "      <th>0</th>\n",
       "      <td>892</td>\n",
       "      <td>3</td>\n",
       "      <td>Kelly, Mr. James</td>\n",
       "      <td>male</td>\n",
       "      <td>34.5</td>\n",
       "      <td>0</td>\n",
       "      <td>0</td>\n",
       "      <td>330911</td>\n",
       "      <td>7.8292</td>\n",
       "      <td>NaN</td>\n",
       "      <td>Q</td>\n",
       "    </tr>\n",
       "    <tr>\n",
       "      <th>1</th>\n",
       "      <td>893</td>\n",
       "      <td>3</td>\n",
       "      <td>Wilkes, Mrs. James (Ellen Needs)</td>\n",
       "      <td>female</td>\n",
       "      <td>47.0</td>\n",
       "      <td>1</td>\n",
       "      <td>0</td>\n",
       "      <td>363272</td>\n",
       "      <td>7.0000</td>\n",
       "      <td>NaN</td>\n",
       "      <td>S</td>\n",
       "    </tr>\n",
       "    <tr>\n",
       "      <th>2</th>\n",
       "      <td>894</td>\n",
       "      <td>2</td>\n",
       "      <td>Myles, Mr. Thomas Francis</td>\n",
       "      <td>male</td>\n",
       "      <td>62.0</td>\n",
       "      <td>0</td>\n",
       "      <td>0</td>\n",
       "      <td>240276</td>\n",
       "      <td>9.6875</td>\n",
       "      <td>NaN</td>\n",
       "      <td>Q</td>\n",
       "    </tr>\n",
       "    <tr>\n",
       "      <th>3</th>\n",
       "      <td>895</td>\n",
       "      <td>3</td>\n",
       "      <td>Wirz, Mr. Albert</td>\n",
       "      <td>male</td>\n",
       "      <td>27.0</td>\n",
       "      <td>0</td>\n",
       "      <td>0</td>\n",
       "      <td>315154</td>\n",
       "      <td>8.6625</td>\n",
       "      <td>NaN</td>\n",
       "      <td>S</td>\n",
       "    </tr>\n",
       "    <tr>\n",
       "      <th>4</th>\n",
       "      <td>896</td>\n",
       "      <td>3</td>\n",
       "      <td>Hirvonen, Mrs. Alexander (Helga E Lindqvist)</td>\n",
       "      <td>female</td>\n",
       "      <td>22.0</td>\n",
       "      <td>1</td>\n",
       "      <td>1</td>\n",
       "      <td>3101298</td>\n",
       "      <td>12.2875</td>\n",
       "      <td>NaN</td>\n",
       "      <td>S</td>\n",
       "    </tr>\n",
       "  </tbody>\n",
       "</table>\n",
       "</div>"
      ],
      "text/plain": [
       "   PassengerId  Pclass                                          Name     Sex  \\\n",
       "0          892       3                              Kelly, Mr. James    male   \n",
       "1          893       3              Wilkes, Mrs. James (Ellen Needs)  female   \n",
       "2          894       2                     Myles, Mr. Thomas Francis    male   \n",
       "3          895       3                              Wirz, Mr. Albert    male   \n",
       "4          896       3  Hirvonen, Mrs. Alexander (Helga E Lindqvist)  female   \n",
       "\n",
       "    Age  SibSp  Parch   Ticket     Fare Cabin Embarked  \n",
       "0  34.5      0      0   330911   7.8292   NaN        Q  \n",
       "1  47.0      1      0   363272   7.0000   NaN        S  \n",
       "2  62.0      0      0   240276   9.6875   NaN        Q  \n",
       "3  27.0      0      0   315154   8.6625   NaN        S  \n",
       "4  22.0      1      1  3101298  12.2875   NaN        S  "
      ]
     },
     "execution_count": 3,
     "metadata": {},
     "output_type": "execute_result"
    }
   ],
   "source": [
    "raw_test.head()"
   ]
  },
  {
   "cell_type": "code",
   "execution_count": 4,
   "metadata": {
    "ExecuteTime": {
     "end_time": "2019-02-10T01:39:35.463732Z",
     "start_time": "2019-02-10T01:39:35.457829Z"
    }
   },
   "outputs": [
    {
     "data": {
      "text/html": [
       "<div>\n",
       "<style scoped>\n",
       "    .dataframe tbody tr th:only-of-type {\n",
       "        vertical-align: middle;\n",
       "    }\n",
       "\n",
       "    .dataframe tbody tr th {\n",
       "        vertical-align: top;\n",
       "    }\n",
       "\n",
       "    .dataframe thead th {\n",
       "        text-align: right;\n",
       "    }\n",
       "</style>\n",
       "<table border=\"1\" class=\"dataframe\">\n",
       "  <thead>\n",
       "    <tr style=\"text-align: right;\">\n",
       "      <th></th>\n",
       "      <th>PassengerId</th>\n",
       "      <th>Survived</th>\n",
       "    </tr>\n",
       "  </thead>\n",
       "  <tbody>\n",
       "    <tr>\n",
       "      <th>0</th>\n",
       "      <td>892</td>\n",
       "      <td>0</td>\n",
       "    </tr>\n",
       "    <tr>\n",
       "      <th>1</th>\n",
       "      <td>893</td>\n",
       "      <td>1</td>\n",
       "    </tr>\n",
       "    <tr>\n",
       "      <th>2</th>\n",
       "      <td>894</td>\n",
       "      <td>0</td>\n",
       "    </tr>\n",
       "    <tr>\n",
       "      <th>3</th>\n",
       "      <td>895</td>\n",
       "      <td>0</td>\n",
       "    </tr>\n",
       "    <tr>\n",
       "      <th>4</th>\n",
       "      <td>896</td>\n",
       "      <td>1</td>\n",
       "    </tr>\n",
       "  </tbody>\n",
       "</table>\n",
       "</div>"
      ],
      "text/plain": [
       "   PassengerId  Survived\n",
       "0          892         0\n",
       "1          893         1\n",
       "2          894         0\n",
       "3          895         0\n",
       "4          896         1"
      ]
     },
     "execution_count": 4,
     "metadata": {},
     "output_type": "execute_result"
    }
   ],
   "source": [
    "example_output.head()"
   ]
  },
  {
   "cell_type": "code",
   "execution_count": 5,
   "metadata": {
    "ExecuteTime": {
     "end_time": "2019-02-10T01:39:35.476213Z",
     "start_time": "2019-02-10T01:39:35.466531Z"
    }
   },
   "outputs": [
    {
     "name": "stdout",
     "output_type": "stream",
     "text": [
      "<class 'pandas.core.frame.DataFrame'>\n",
      "RangeIndex: 891 entries, 0 to 890\n",
      "Data columns (total 12 columns):\n",
      "PassengerId    891 non-null int64\n",
      "Survived       891 non-null int64\n",
      "Pclass         891 non-null int64\n",
      "Name           891 non-null object\n",
      "Sex            891 non-null object\n",
      "Age            714 non-null float64\n",
      "SibSp          891 non-null int64\n",
      "Parch          891 non-null int64\n",
      "Ticket         891 non-null object\n",
      "Fare           891 non-null float64\n",
      "Cabin          204 non-null object\n",
      "Embarked       889 non-null object\n",
      "dtypes: float64(2), int64(5), object(5)\n",
      "memory usage: 83.6+ KB\n"
     ]
    }
   ],
   "source": [
    "raw_training.info()"
   ]
  },
  {
   "cell_type": "code",
   "execution_count": 6,
   "metadata": {
    "ExecuteTime": {
     "end_time": "2019-02-10T01:39:36.776162Z",
     "start_time": "2019-02-10T01:39:35.478086Z"
    }
   },
   "outputs": [
    {
     "data": {
      "image/png": "[encoded data removed]",
      "text/plain": [
       "<Figure size 1440x1080 with 9 Axes>"
      ]
     },
     "metadata": {
      "needs_background": "light"
     },
     "output_type": "display_data"
    }
   ],
   "source": [
    "%matplotlib inline\n",
    "import matplotlib.pyplot as plt\n",
    "\n",
    "raw_training.hist(bins=50, figsize=(20,15))\n",
    "plt.show()"
   ]
  },
  {
   "cell_type": "markdown",
   "metadata": {},
   "source": [
    "A few observations:\n",
    " * I notice that the test set doesn't contain the survived column, which is fine because that's how the competition works, but I should pull that column out into its own array.\n",
    " * The PassengerID column will be needed to produce the final output, but will be worthless for the actual training, so it should be also be pulled into a separate array.\n",
    " * The Cabin column has lots of blanks in it. I'm not sure that I'll be able to suitably fill in the blanks, so I may have to drop that column entirely\n",
    " * The name column is going to be tricky to use. The only way I can think of currently that this info will be useful is if I can use it to group people into families. There may be a correlation between families and survival. That will take some data scrubbing though. I will need to separate the first and last name into their own columns, as well as first and last maiden name.\n",
    " * Age is definitely pertinent, but it has some null values that I will need to fill in\n",
    " * I will need to create mappings for a few names to convert them into usable numerical values: sex, embarked, and name\n",
    " * It looks like the 'fare' column might have some invalid 0s or something, it will need a closer look"
   ]
  },
  {
   "cell_type": "code",
   "execution_count": 7,
   "metadata": {
    "ExecuteTime": {
     "end_time": "2019-02-10T01:39:39.270541Z",
     "start_time": "2019-02-10T01:39:36.778376Z"
    }
   },
   "outputs": [
    {
     "data": {
      "image/png": "[encoded data removed]",
      "text/plain": [
       "<Figure size 1440x1152 with 49 Axes>"
      ]
     },
     "metadata": {
      "needs_background": "light"
     },
     "output_type": "display_data"
    }
   ],
   "source": [
    "#Ok, time to look for correlations\n",
    "from pandas.plotting import scatter_matrix\n",
    "\n",
    "vals = scatter_matrix(raw_training, figsize=(20,16))\n"
   ]
  },
  {
   "cell_type": "markdown",
   "metadata": {},
   "source": [
    "Well, I actually didn't get much of anything from that. Too many of the values are distinct. Lets clean things up a little and then try again. (Kaggle already split off a test set, so I don't need to worry about that)"
   ]
  },
  {
   "cell_type": "code",
   "execution_count": 8,
   "metadata": {
    "ExecuteTime": {
     "end_time": "2019-02-10T01:39:39.454258Z",
     "start_time": "2019-02-10T01:39:39.271785Z"
    }
   },
   "outputs": [
    {
     "name": "stdout",
     "output_type": "stream",
     "text": [
      "0    0\n",
      "1    1\n",
      "2    1\n",
      "3    1\n",
      "4    0\n",
      "Name: Survived, dtype: int64\n",
      "        Age      Fare  Sex_female  Sex_male  Embarked_C  Embarked_Q  \\\n",
      "0 -0.592481 -0.502445         0.0       1.0         0.0         0.0   \n",
      "1  0.638789  0.786845         1.0       0.0         1.0         0.0   \n",
      "2 -0.284663 -0.488854         1.0       0.0         0.0         0.0   \n",
      "3  0.407926  0.420730         1.0       0.0         0.0         0.0   \n",
      "4  0.407926 -0.486337         0.0       1.0         0.0         0.0   \n",
      "\n",
      "   Embarked_S  Pclass_1  Pclass_2  Pclass_3  SibSp  Parch  \n",
      "0         1.0       0.0       0.0       1.0    1.0    0.0  \n",
      "1         0.0       1.0       0.0       0.0    1.0    0.0  \n",
      "2         1.0       0.0       0.0       1.0    0.0    0.0  \n",
      "3         1.0       1.0       0.0       0.0    1.0    0.0  \n",
      "4         1.0       0.0       0.0       1.0    0.0    0.0  \n"
     ]
    }
   ],
   "source": [
    "from sklearn.compose import ColumnTransformer\n",
    "from sklearn.impute import SimpleImputer\n",
    "from sklearn.pipeline import Pipeline\n",
    "from sklearn.preprocessing import StandardScaler, OneHotEncoder\n",
    "\n",
    "numeric_pipeline = Pipeline(steps=[\n",
    "    ('imputer', SimpleImputer()),\n",
    "    ('scaler', StandardScaler())\n",
    "])\n",
    "\n",
    "categorical_pipeline = Pipeline(steps=[\n",
    "    ('imputer', SimpleImputer(strategy='most_frequent')),\n",
    "    ('onehot', OneHotEncoder())\n",
    "])\n",
    "\n",
    "column_transform = ColumnTransformer(transformers=[\n",
    "    ('numerical', numeric_pipeline, [\"Age\", \"Fare\"]),\n",
    "    ('categorical', categorical_pipeline, [\"Sex\", \"Embarked\", \"Pclass\"]),\n",
    "    ('passthrough', \"passthrough\", [\"SibSp\", \"Parch\"])\n",
    "])\n",
    "\n",
    "labels = raw_training[\"Survived\"].copy()\n",
    "training = raw_training.drop(\"Survived\", axis=1)\n",
    "training = column_transform.fit_transform(training, labels)\n",
    "\n",
    "Names = [\"Age\", \"Fare\" ]\n",
    "name, pipeline, columns = column_transform.transformers_[1]\n",
    "name, transform = pipeline.steps[-1]\n",
    "i = 0\n",
    "for cat_cols in transform.categories_:\n",
    "    curColName = columns[i]\n",
    "    i += 1\n",
    "    for cat in cat_cols:\n",
    "        Names.append(curColName + \"_\" + str(cat))\n",
    "Names.append(\"SibSp\")\n",
    "Names.append(\"Parch\")\n",
    "\n",
    "training = pandas.DataFrame(training, columns=Names)\n",
    "\n",
    "#print(column_transform.get_feature_names())\n",
    "print(labels.head())\n",
    "print(training.head())"
   ]
  },
  {
   "cell_type": "markdown",
   "metadata": {},
   "source": [
    "Some potential algorithms to try:\n",
    " * naieve bays\n",
    " * Decision Trees\n",
    " * Random Forests\n",
    " * AdaBoost"
   ]
  },
  {
   "cell_type": "code",
   "execution_count": 9,
   "metadata": {
    "ExecuteTime": {
     "end_time": "2019-02-10T01:39:41.524836Z",
     "start_time": "2019-02-10T01:39:39.455654Z"
    }
   },
   "outputs": [
    {
     "name": "stdout",
     "output_type": "stream",
     "text": [
      "LogisticRegression: 0.799210(0.027443)\n",
      "GaussianNB: 0.785801(0.029810)\n",
      "DecisionTreeClassifier: 0.784552(0.036934)\n",
      "RandomForestClassifier: 0.807100(0.046719)\n",
      "AdaBoostClassifier: 0.812705(0.030004)\n",
      "KNeighborsClassifier: 0.808123(0.034668)\n",
      "SVC: 0.828336(0.034192)\n"
     ]
    },
    {
     "data": {
      "image/png": "[encoded data removed]",
      "text/plain": [
       "<Figure size 432x288 with 1 Axes>"
      ]
     },
     "metadata": {
      "needs_background": "light"
     },
     "output_type": "display_data"
    }
   ],
   "source": [
    "from sklearn.model_selection import cross_val_score\n",
    "from sklearn.naive_bayes import GaussianNB\n",
    "from sklearn.linear_model import LogisticRegression\n",
    "from sklearn.tree import DecisionTreeClassifier\n",
    "from sklearn.svm import SVC\n",
    "from sklearn.ensemble import RandomForestClassifier, AdaBoostClassifier\n",
    "from sklearn.neighbors import KNeighborsClassifier\n",
    "import numpy as np\n",
    "\n",
    "models = [\n",
    "    LogisticRegression(solver=\"lbfgs\"),\n",
    "    GaussianNB(),\n",
    "    DecisionTreeClassifier(),\n",
    "    RandomForestClassifier(n_estimators=100),\n",
    "    AdaBoostClassifier(),\n",
    "    KNeighborsClassifier(),\n",
    "    SVC(gamma='scale'),\n",
    "]\n",
    "\n",
    "names=[]\n",
    "scores = []\n",
    "for model in models:\n",
    "    score = cross_val_score(model, training, labels, cv=10, scoring='accuracy', n_jobs=-1)\n",
    "    scores.append(score)\n",
    "    names.append(type(model).__name__)\n",
    "    print(\"%s: %f(%f)\" % (type(model).__name__, score.mean(), score.std()))\n",
    "    \n",
    "plt.boxplot(scores)\n",
    "plt.xticks(np.arange(len(names))+1,names,rotation=90)\n",
    "plt.show()"
   ]
  },
  {
   "cell_type": "markdown",
   "metadata": {},
   "source": [
    "Interesting results. To me the RandomForests, AdaBoost, and SVC look the most promising. Of those RandomForests looks the weekest, so I'll tune it last and only if I have enough time.\n",
    "\n",
    "I'll start with SVC"
   ]
  },
  {
   "cell_type": "code",
   "execution_count": 18,
   "metadata": {
    "ExecuteTime": {
     "end_time": "2019-02-10T02:00:08.734442Z",
     "start_time": "2019-02-10T01:59:47.578526Z"
    }
   },
   "outputs": [
    {
     "name": "stdout",
     "output_type": "stream",
     "text": [
      "Best Params:  {'C': 1.5, 'coef0': 0, 'degree': 1, 'gamma': 'auto', 'kernel': 'rbf', 'random_state': 42, 'shrinking': False, 'tol': 0.01}\n",
      "Best Score:  0.8305274971941639\n",
      "Refit Time:  0.016153812408447266\n"
     ]
    }
   ],
   "source": [
    "from sklearn.model_selection import GridSearchCV\n",
    "from sklearn.svm import LinearSVC\n",
    "\n",
    "def tune_SVC(data, labels):\n",
    "    param_grid = { \n",
    "        \"C\": [0.5, 1.0, 1.5, 3.0],\n",
    "        \"gamma\": [\"auto\", \"scale\"],\n",
    "        \"degree\": [1,3,6],\n",
    "        \"coef0\": [0,0.3,0.6,0.9],\n",
    "        \"shrinking\": [False,True],\n",
    "        \"tol\": [1e-2, 1e-3, 1e-5],\n",
    "        \"random_state\":[42]\n",
    "    }\n",
    "\n",
    "    search = GridSearchCV(LinearSVC(), param_grid, n_jobs=-1, cv=5)\n",
    "    search.fit(data, labels)\n",
    "    print(\"Best Params: \", search.best_params_)\n",
    "    print(\"Best Score: \", search.best_score_)\n",
    "    print(\"Refit Time: \", search.refit_time_)\n",
    "\n",
    "tune_SVC(training, labels)"
   ]
  },
  {
   "cell_type": "markdown",
   "metadata": {},
   "source": [
    "Well, that was a little underwhelming. Lets try adaboost."
   ]
  },
  {
   "cell_type": "code",
   "execution_count": 12,
   "metadata": {
    "ExecuteTime": {
     "end_time": "2019-02-10T01:40:41.383895Z",
     "start_time": "2019-02-10T01:40:01.601121Z"
    }
   },
   "outputs": [
    {
     "name": "stdout",
     "output_type": "stream",
     "text": [
      "Best Params:  {'learning_rate': 1.5, 'n_estimators': 100, 'random_state': 42}\n",
      "Best Score:  0.8137509322512658\n",
      "Refit Time:  0.08994722366333008\n"
     ]
    }
   ],
   "source": [
    "def tune_AdaBoost(data, labels):\n",
    "    param_grid = { \n",
    "        \"n_estimators\": [10,50,100,500,1000,5000],\n",
    "        \"learning_rate\": [0.1,0.4,0.9,1.0,1.5,3,5],\n",
    "        \"random_state\":[42]\n",
    "    }\n",
    "\n",
    "    search = GridSearchCV(AdaBoostClassifier(), param_grid, n_jobs=-1, cv=5, iid=False)\n",
    "    search.fit(data, labels)\n",
    "    print(\"Best Params: \", search.best_params_)\n",
    "    print(\"Best Score: \", search.best_score_)\n",
    "    print(\"Refit Time: \", search.refit_time_)\n",
    "\n",
    "tune_AdaBoost(training, labels)"
   ]
  },
  {
   "cell_type": "markdown",
   "metadata": {},
   "source": [
    "Well, that wasn't very good either, time to reexamine my data. One of those really ought to have gotten a better score than that. Lets start by getting a little fancier with the confusion matrix"
   ]
  },
  {
   "cell_type": "code",
   "execution_count": 13,
   "metadata": {
    "ExecuteTime": {
     "end_time": "2019-02-10T01:40:41.548686Z",
     "start_time": "2019-02-10T01:40:41.385317Z"
    }
   },
   "outputs": [
    {
     "data": {
      "image/png": "[encoded data removed]",
      "text/plain": [
       "<Figure size 432x288 with 2 Axes>"
      ]
     },
     "metadata": {
      "needs_background": "light"
     },
     "output_type": "display_data"
    }
   ],
   "source": [
    "def show_correlation(data, labels):\n",
    "    correlations = data.join(labels).corr()\n",
    "    plt.imshow(correlations, cmap='bwr', interpolation='Nearest', vmin=-1.0, vmax=1.0)\n",
    "    tmp = plt.xticks(np.arange(len(list(correlations))),list(correlations),rotation=90)\n",
    "    tmp = plt.yticks(np.arange(len(list(correlations))),list(correlations))\n",
    "    plt.colorbar()\n",
    "    plt.show()\n",
    "\n",
    "show_correlation(training, labels)"
   ]
  },
  {
   "cell_type": "markdown",
   "metadata": {},
   "source": [
    "Ok, having failed to visualize my improved data (I went back and reworked things to add the new column names back into the dataframe to make this easier), I failed to notice that Sex_female and Sex_male are very highly related. lol. So I'll drop one of them. \n",
    "\n",
    "Likewise, it seems that Age has almost nothing to do with survival and is related to several other items. I'll drop it too.\n",
    "\n",
    "SibSp and Parch are relatively closely related, so I'll drop SibSp. It's even less related to survival than Parch.\n",
    "\n",
    "Looking closer, it seems that I might ought to have left passenger class as a single numeric column. The three columns it turned into are all highly related to each other and all have a moderate tie to survival as well."
   ]
  },
  {
   "cell_type": "code",
   "execution_count": 116,
   "metadata": {
    "ExecuteTime": {
     "end_time": "2019-02-11T13:29:10.374871Z",
     "start_time": "2019-02-11T13:29:10.333105Z"
    }
   },
   "outputs": [
    {
     "name": "stdout",
     "output_type": "stream",
     "text": [
      "       Fare  Sex  Embarked_C  Embarked_Q  Embarked_S  Pclass_1  Pclass_2  \\\n",
      "0 -0.502445  1.0         0.0         0.0         1.0       0.0       0.0   \n",
      "1  0.786845  0.0         1.0         0.0         0.0       1.0       0.0   \n",
      "2 -0.488854  0.0         0.0         0.0         1.0       0.0       0.0   \n",
      "3  0.420730  0.0         0.0         0.0         1.0       1.0       0.0   \n",
      "4 -0.486337  1.0         0.0         0.0         1.0       0.0       0.0   \n",
      "\n",
      "   Pclass_3  Parch  SibSp  \n",
      "0       1.0    0.0    1.0  \n",
      "1       0.0    0.0    1.0  \n",
      "2       1.0    0.0    0.0  \n",
      "3       0.0    0.0    1.0  \n",
      "4       1.0    0.0    0.0  \n"
     ]
    }
   ],
   "source": [
    "from sklearn.compose import ColumnTransformer\n",
    "from sklearn.impute import SimpleImputer\n",
    "from sklearn.pipeline import Pipeline\n",
    "from sklearn.preprocessing import StandardScaler\n",
    "from sklearn.preprocessing import OneHotEncoder, OrdinalEncoder\n",
    "\n",
    "numeric_pipeline2 = Pipeline(steps=[\n",
    "    ('imputer', SimpleImputer()),\n",
    "    ('scaler', StandardScaler())\n",
    "])\n",
    "\n",
    "categorical_pipeline2 = Pipeline(steps=[\n",
    "    ('imputer', SimpleImputer(strategy='most_frequent')),\n",
    "    ('onehot', OneHotEncoder())\n",
    "])\n",
    "\n",
    "ordinal_pipeline2 = Pipeline(steps=[\n",
    "    ('imputer', SimpleImputer(strategy='most_frequent')),\n",
    "    ('ordinal', OrdinalEncoder())\n",
    "])\n",
    "\n",
    "column_transform2 = ColumnTransformer(transformers=[\n",
    "    ('numerical', numeric_pipeline2, [\"Fare\"]),\n",
    "    ('ordinal', ordinal_pipeline2, [\"Sex\"]),\n",
    "    ('categorical', categorical_pipeline2, [\"Embarked\", \"Pclass\"]),\n",
    "    ('passthrough', \"passthrough\", [\"Parch\", \"SibSp\"])\n",
    "])\n",
    "\n",
    "labels = raw_training[\"Survived\"].copy()\n",
    "training2 = raw_training.drop(\"Survived\", axis=1)\n",
    "training2 = column_transform2.fit_transform(training2, labels)\n",
    "\n",
    "def getOneHotEncoderColumns(encoder, colNames):\n",
    "    names = []\n",
    "    i = 0\n",
    "    for cat_cols in encoder.categories_:\n",
    "        curColName = colNames[i]\n",
    "        i += 1\n",
    "        for cat in cat_cols:\n",
    "            names.append(curColName + \"_\" + str(cat))\n",
    "    return names\n",
    "\n",
    "Names2 = [\"Fare\", \"Sex\"]\n",
    "name, pipeline, columns = column_transform2.transformers_[2]\n",
    "name, transform = pipeline.steps[-1]\n",
    "for name in getOneHotEncoderColumns(transform, columns):\n",
    "    Names2.append(name)\n",
    "Names2.append(\"Parch\")\n",
    "Names2.append(\"SibSp\")\n",
    "\n",
    "training2 = pandas.DataFrame(training2, columns=Names2)\n",
    "print(training2.head())"
   ]
  },
  {
   "cell_type": "code",
   "execution_count": 23,
   "metadata": {
    "ExecuteTime": {
     "end_time": "2019-02-10T02:03:08.892248Z",
     "start_time": "2019-02-10T02:03:08.749958Z"
    }
   },
   "outputs": [
    {
     "data": {
      "image/png": "[encoded data removed]",
      "text/plain": [
       "<Figure size 432x288 with 2 Axes>"
      ]
     },
     "metadata": {
      "needs_background": "light"
     },
     "output_type": "display_data"
    }
   ],
   "source": [
    "training3 = training2.drop([\"SibSp\", \"Embarked_Q\"], axis=1)\n",
    "show_correlation(training3, labels)"
   ]
  },
  {
   "cell_type": "code",
   "execution_count": 24,
   "metadata": {
    "ExecuteTime": {
     "end_time": "2019-02-10T02:04:25.516937Z",
     "start_time": "2019-02-10T02:03:47.068253Z"
    }
   },
   "outputs": [
    {
     "name": "stdout",
     "output_type": "stream",
     "text": [
      "Best Params:  {'learning_rate': 1.0, 'n_estimators': 1000, 'random_state': 42}\n",
      "Best Score:  0.8025587039021034\n",
      "Refit Time:  0.7773218154907227\n"
     ]
    }
   ],
   "source": [
    "tune_AdaBoost(training3, labels)"
   ]
  },
  {
   "cell_type": "code",
   "execution_count": null,
   "metadata": {},
   "outputs": [],
   "source": [
    "#tune_SVC(training3, labels)"
   ]
  },
  {
   "cell_type": "markdown",
   "metadata": {},
   "source": [
    "Well, that was taking a very long time to compute, despite the small size of the dataset, so I'm going to leave it alone and pick up the random forests instead"
   ]
  },
  {
   "cell_type": "code",
   "execution_count": 164,
   "metadata": {
    "ExecuteTime": {
     "end_time": "2019-02-12T01:56:27.298114Z",
     "start_time": "2019-02-12T00:47:27.135412Z"
    }
   },
   "outputs": [
    {
     "name": "stdout",
     "output_type": "stream",
     "text": [
      "Best Params:  {'random_state': 42, 'n_estimators': 100, 'min_weight_fraction_leaf': 0, 'min_samples_split': 2, 'min_samples_leaf': 2, 'min_impurity_decrease': 0, 'max_leaf_nodes': 300, 'max_features': 'log2', 'max_depth': 5}\n",
      "Best Score:  0.8171027457038422\n",
      "Refit Time:  0.07300758361816406\n"
     ]
    }
   ],
   "source": [
    "from sklearn.model_selection import RandomizedSearchCV\n",
    "\n",
    "def tune_randForest(data, labels):\n",
    "    param_grid = { \n",
    "        \"n_estimators\": [10,50,100,500,1000,5000],\n",
    "        \"max_depth\": [5, 10, 50, 100, None],\n",
    "        \"min_samples_split\": [2, 4, 8, 12],\n",
    "        \"min_samples_leaf\": [1, 2, 4, 8],\n",
    "        \"min_weight_fraction_leaf\": [0, 0.1, 0.4],\n",
    "        \"max_features\": [\"auto\", \"log2\"],\n",
    "        \"max_leaf_nodes\": [None, 500, 300, 100],\n",
    "        \"min_impurity_decrease\": [0, 0.1, 0.3],\n",
    "        \"random_state\":[42]\n",
    "    }\n",
    "\n",
    "    search = RandomizedSearchCV(RandomForestClassifier(), param_grid, n_iter=10000, n_jobs=-1, cv=5, iid=False)\n",
    "    search.fit(data, labels)\n",
    "    print(\"Best Params: \", search.best_params_)\n",
    "    print(\"Best Score: \", search.best_score_)\n",
    "    print(\"Refit Time: \", search.refit_time_)\n",
    "\n",
    "tune_randForest(training3, labels)"
   ]
  },
  {
   "cell_type": "markdown",
   "metadata": {},
   "source": [
    "Well, still not very good. Lets go back to some more feature engineering. \n",
    "\n",
    "There's one feature that I haven't used at all that has some potential. The historical record seems to indicate that families ties had a big impact on survival. So maybe if I extract last names and then one-hot encode them I'll be able to get some more improvement."
   ]
  },
  {
   "cell_type": "code",
   "execution_count": 142,
   "metadata": {
    "ExecuteTime": {
     "end_time": "2019-02-11T14:07:57.753929Z",
     "start_time": "2019-02-11T14:07:57.713118Z"
    }
   },
   "outputs": [
    {
     "name": "stdout",
     "output_type": "stream",
     "text": [
      "        Age      Fare  Sex_female  Sex_male  Embarked_C  Embarked_Q  \\\n",
      "0 -0.592481 -0.502445         0.0       1.0         0.0         0.0   \n",
      "1  0.638789  0.786845         1.0       0.0         1.0         0.0   \n",
      "2 -0.284663 -0.488854         1.0       0.0         0.0         0.0   \n",
      "3  0.407926  0.420730         1.0       0.0         0.0         0.0   \n",
      "4  0.407926 -0.486337         0.0       1.0         0.0         0.0   \n",
      "\n",
      "   Embarked_S  Pclass_1  Pclass_2  Pclass_3  ...  LastName_Yousseff  \\\n",
      "0         1.0       0.0       0.0       1.0  ...                0.0   \n",
      "1         0.0       1.0       0.0       0.0  ...                0.0   \n",
      "2         1.0       0.0       0.0       1.0  ...                0.0   \n",
      "3         1.0       1.0       0.0       0.0  ...                0.0   \n",
      "4         1.0       0.0       0.0       1.0  ...                0.0   \n",
      "\n",
      "   LastName_Yrois  LastName_Zabour  LastName_Zimmerman  \\\n",
      "0             0.0              0.0                 0.0   \n",
      "1             0.0              0.0                 0.0   \n",
      "2             0.0              0.0                 0.0   \n",
      "3             0.0              0.0                 0.0   \n",
      "4             0.0              0.0                 0.0   \n",
      "\n",
      "   LastName_de Messemaeker  LastName_de Mulder  LastName_de Pelsmaeker  \\\n",
      "0                      0.0                 0.0                     0.0   \n",
      "1                      0.0                 0.0                     0.0   \n",
      "2                      0.0                 0.0                     0.0   \n",
      "3                      0.0                 0.0                     0.0   \n",
      "4                      0.0                 0.0                     0.0   \n",
      "\n",
      "   LastName_del Carlo  LastName_van Billiard  LastName_van Melkebeke  \n",
      "0                 0.0                    0.0                     0.0  \n",
      "1                 0.0                    0.0                     0.0  \n",
      "2                 0.0                    0.0                     0.0  \n",
      "3                 0.0                    0.0                     0.0  \n",
      "4                 0.0                    0.0                     0.0  \n",
      "\n",
      "[5 rows x 679 columns]\n"
     ]
    }
   ],
   "source": [
    "from sklearn.compose import ColumnTransformer\n",
    "from sklearn.base import BaseEstimator, TransformerMixin\n",
    "import re\n",
    "\n",
    "regex = re.compile(\"(.*?),\")\n",
    "groupNum = 1\n",
    "def applyRegex(val):\n",
    "    match = regex.search(val)\n",
    "    newVal = \"\"\n",
    "    if (match):\n",
    "        newVal = match.group(groupNum)\n",
    "    if (newVal is None):\n",
    "        newVal = \"\"\n",
    "    return newVal\n",
    "\n",
    "class RegexTransform(BaseEstimator, TransformerMixin):\n",
    "    def __init__(self, regex=\".*\", groupNum=0):\n",
    "        self.regex = re.compile(regex)\n",
    "        self.groupNum = groupNum\n",
    "        \n",
    "    def fit(self, X, y=None):\n",
    "        return self\n",
    "    \n",
    "    def transform(self, X, y=None):\n",
    "        return X.applymap(applyRegex)\n",
    "\n",
    "name_col = raw_training[\"Name\"].copy()\n",
    "namesPipeline = Pipeline(steps=[\n",
    "    ('lastName', RegexTransform()),\n",
    "    ('oneHot', OneHotEncoder(sparse=False))\n",
    "])\n",
    "colTransform2 = ColumnTransformer(transformers=[\n",
    "    ('names', namesPipeline, [\"Name\"]),\n",
    "])\n",
    "encoded = colTransform2.fit_transform(raw_training.drop(\"Survived\", axis=1))\n",
    "\n",
    "\n",
    "name, pipeline, columns = colTransform2.transformers_[0] \n",
    "name, transform = pipeline.steps[-1]\n",
    "lastNameCols = getOneHotEncoderColumns(transform, [\"LastName\"])\n",
    "encoded_df = pandas.DataFrame(encoded, columns=lastNameCols)\n",
    "\n",
    "trainingWithNames = training.join(encoded_df)\n",
    "\n",
    "print(trainingWithNames.head())\n",
    "\n"
   ]
  },
  {
   "cell_type": "code",
   "execution_count": 155,
   "metadata": {
    "ExecuteTime": {
     "end_time": "2019-02-11T14:21:36.470356Z",
     "start_time": "2019-02-11T14:21:32.972111Z"
    }
   },
   "outputs": [],
   "source": [
    "from sklearn.feature_selection import mutual_info_classif, SelectKBest\n",
    "\n",
    "kbest = SelectKBest(mutual_info_classif, k=30)\n",
    "trainingWithNames_reduced = kbest.fit_transform(trainingWithNames, labels)"
   ]
  },
  {
   "cell_type": "code",
   "execution_count": 156,
   "metadata": {
    "ExecuteTime": {
     "end_time": "2019-02-11T14:22:07.257562Z",
     "start_time": "2019-02-11T14:21:36.738497Z"
    }
   },
   "outputs": [
    {
     "name": "stdout",
     "output_type": "stream",
     "text": [
      "Best Params:  {'learning_rate': 1.5, 'n_estimators': 1000, 'random_state': 42}\n",
      "Best Score:  0.7958171308683955\n",
      "Refit Time:  0.8377938270568848\n"
     ]
    }
   ],
   "source": [
    "tune_AdaBoost(trainingWithNames_reduced, labels)"
   ]
  },
  {
   "cell_type": "code",
   "execution_count": null,
   "metadata": {},
   "outputs": [],
   "source": [
    "tune_randForest(trainingWithNames_reduced, labels)"
   ]
  },
  {
   "cell_type": "markdown",
   "metadata": {},
   "source": [
    "Well, that reduced number of names didn't go as well as I had hoped, so I'll just try using all of them and see how it goes."
   ]
  },
  {
   "cell_type": "code",
   "execution_count": 162,
   "metadata": {
    "ExecuteTime": {
     "end_time": "2019-02-12T00:25:47.152237Z",
     "start_time": "2019-02-11T20:51:33.667219Z"
    }
   },
   "outputs": [
    {
     "name": "stdout",
     "output_type": "stream",
     "text": [
      "Best Params:  {'random_state': 42, 'n_estimators': 5000, 'min_weight_fraction_leaf': 0, 'min_samples_split': 2, 'min_samples_leaf': 1, 'min_impurity_decrease': 0, 'max_leaf_nodes': None, 'max_features': 'log2', 'max_depth': 50}\n",
      "Best Score:  0.8395563210980119\n",
      "Refit Time:  6.823760747909546\n"
     ]
    }
   ],
   "source": [
    "tune_randForest(trainingWithNames, labels)"
   ]
  },
  {
   "cell_type": "markdown",
   "metadata": {},
   "source": [
    "So training a random forest with all 600+ columns (mostly generated by one-hot encoding each passenger's last name) seems to have gotten me another percent and a half of accuracy, but it took around 6 hours to train. In a real world scenarion I would probably just stick with the reduced set of columns"
   ]
  },
  {
   "cell_type": "markdown",
   "metadata": {},
   "source": [
    "I'm curious about how untuned accuracy changes with the expanded dataset."
   ]
  },
  {
   "cell_type": "code",
   "execution_count": 170,
   "metadata": {
    "ExecuteTime": {
     "end_time": "2019-02-12T02:42:04.378151Z",
     "start_time": "2019-02-12T02:42:02.936815Z"
    }
   },
   "outputs": [
    {
     "name": "stdout",
     "output_type": "stream",
     "text": [
      "LogisticRegression: 0.806972(0.021103)\n",
      "GaussianNB: 0.475845(0.014285)\n",
      "DecisionTreeClassifier: 0.831697(0.022385)\n",
      "RandomForestClassifier: 0.827222(0.018667)\n",
      "AdaBoostClassifier: 0.795824(0.045260)\n",
      "KNeighborsClassifier: 0.801416(0.025140)\n",
      "SVC: 0.792346(0.018673)\n"
     ]
    },
    {
     "data": {
      "image/png": "[encoded data removed]",
      "text/plain": [
       "<Figure size 432x288 with 1 Axes>"
      ]
     },
     "metadata": {
      "needs_background": "light"
     },
     "output_type": "display_data"
    }
   ],
   "source": [
    "models = [\n",
    "    LogisticRegression(solver=\"lbfgs\"),\n",
    "    GaussianNB(),\n",
    "    DecisionTreeClassifier(),\n",
    "    RandomForestClassifier(n_estimators=100),\n",
    "    AdaBoostClassifier(),\n",
    "    KNeighborsClassifier(),\n",
    "    SVC(gamma='scale'),\n",
    "]\n",
    "\n",
    "names=[]\n",
    "scores = []\n",
    "for model in models:\n",
    "    score = cross_val_score(model, trainingWithNames, labels, cv=5, scoring='accuracy', n_jobs=-1)\n",
    "    scores.append(score)\n",
    "    names.append(type(model).__name__)\n",
    "    print(\"%s: %f(%f)\" % (type(model).__name__, score.mean(), score.std()))\n",
    "    \n",
    "plt.boxplot(scores)\n",
    "plt.xticks(np.arange(len(names))+1,names,rotation=90)\n",
    "plt.show()"
   ]
  },
  {
   "cell_type": "markdown",
   "metadata": {
    "ExecuteTime": {
     "end_time": "2019-02-12T02:39:31.096683Z",
     "start_time": "2019-02-12T02:39:31.092284Z"
    }
   },
   "source": [
    "Wow, GaussianNB tanked right there. Lest take a closer look at the others"
   ]
  },
  {
   "cell_type": "code",
   "execution_count": 171,
   "metadata": {
    "ExecuteTime": {
     "end_time": "2019-02-12T02:42:07.018960Z",
     "start_time": "2019-02-12T02:42:06.867692Z"
    }
   },
   "outputs": [
    {
     "data": {
      "image/png": "[encoded data removed]",
      "text/plain": [
       "<Figure size 432x288 with 1 Axes>"
      ]
     },
     "metadata": {
      "needs_background": "light"
     },
     "output_type": "display_data"
    }
   ],
   "source": [
    "del(scores[1])\n",
    "del(names[1])\n",
    "plt.boxplot(scores)\n",
    "plt.xticks(np.arange(len(names))+1,names,rotation=90)\n",
    "plt.show()"
   ]
  },
  {
   "cell_type": "markdown",
   "metadata": {},
   "source": [
    "Ok, the DecisionTreeClassifier looks a lot more interesting here. Lets see what happens if we tune it."
   ]
  },
  {
   "cell_type": "code",
   "execution_count": 209,
   "metadata": {
    "ExecuteTime": {
     "end_time": "2019-02-12T03:22:35.955489Z",
     "start_time": "2019-02-12T03:22:34.187347Z"
    }
   },
   "outputs": [
    {
     "name": "stdout",
     "output_type": "stream",
     "text": [
      "Best Params:  {'criterion': 'entropy', 'max_leaf_nodes': None, 'min_impurity_decrease': 0, 'min_samples_leaf': 1, 'min_samples_split': 20, 'min_weight_fraction_leaf': 0, 'random_state': 42, 'splitter': 'best'}\n",
      "Best Score:  0.835061868148197\n",
      "Refit Time:  0.0305173397064209\n"
     ]
    }
   ],
   "source": [
    "def tune_decisionTree(data, labels):\n",
    "    param_grid = { \n",
    "        \"splitter\": [\"best\", \"random\"],\n",
    "        \"criterion\": [\"gini\", \"entropy\"],\n",
    "        \"min_samples_split\": [19, 20, 21],\n",
    "        \"min_samples_leaf\": [1,3],\n",
    "        \"min_weight_fraction_leaf\": [0],\n",
    "        \"max_leaf_nodes\": [None],\n",
    "        \"min_impurity_decrease\": [0, 0.2],\n",
    "        \"random_state\":[42]\n",
    "    }\n",
    "\n",
    "    search = GridSearchCV(DecisionTreeClassifier(), param_grid, n_jobs=-1, cv=5, iid=False)\n",
    "    search.fit(data, labels)\n",
    "    print(\"Best Params: \", search.best_params_)\n",
    "    print(\"Best Score: \", search.best_score_)\n",
    "    print(\"Refit Time: \", search.refit_time_)\n",
    "    return search.best_estimator_ \n",
    "\n",
    "best_dt = tune_decisionTree(trainingWithNames, labels)"
   ]
  },
  {
   "cell_type": "code",
   "execution_count": 191,
   "metadata": {
    "ExecuteTime": {
     "end_time": "2019-02-12T03:06:31.981025Z",
     "start_time": "2019-02-12T03:06:31.742120Z"
    }
   },
   "outputs": [
    {
     "name": "stdout",
     "output_type": "stream",
     "text": [
      "Best Params:  {'criterion': 'entropy', 'max_leaf_nodes': None, 'min_impurity_decrease': 0, 'min_samples_leaf': 3, 'min_samples_split': 19, 'min_weight_fraction_leaf': 0, 'random_state': 42, 'splitter': 'best'}\n",
      "Best Score:  0.8137381653295088\n",
      "Refit Time:  0.0017464160919189453\n"
     ]
    }
   ],
   "source": [
    "tune_decisionTree(trainingWithNames_reduced, labels)"
   ]
  },
  {
   "cell_type": "code",
   "execution_count": 193,
   "metadata": {
    "ExecuteTime": {
     "end_time": "2019-02-12T03:06:46.034527Z",
     "start_time": "2019-02-12T03:06:45.725167Z"
    }
   },
   "outputs": [
    {
     "name": "stdout",
     "output_type": "stream",
     "text": [
      "Best Params:  {'criterion': 'gini', 'max_leaf_nodes': None, 'min_impurity_decrease': 0, 'min_samples_leaf': 3, 'min_samples_split': 19, 'min_weight_fraction_leaf': 0, 'random_state': 42, 'splitter': 'best'}\n",
      "Best Score:  0.8137823885279278\n",
      "Refit Time:  0.001981973648071289\n"
     ]
    }
   ],
   "source": [
    "tune_decisionTree(training, labels)"
   ]
  },
  {
   "cell_type": "markdown",
   "metadata": {},
   "source": [
    "Lets look at what our best decision tree decided were the most significant features"
   ]
  },
  {
   "cell_type": "code",
   "execution_count": 211,
   "metadata": {
    "ExecuteTime": {
     "end_time": "2019-02-12T03:24:16.438150Z",
     "start_time": "2019-02-12T03:24:16.408992Z"
    }
   },
   "outputs": [
    {
     "data": {
      "text/plain": [
       "[(0.26224584077368274, 'Sex_male'),\n",
       " (0.13548546818600002, 'Fare'),\n",
       " (0.09273036965814722, 'Age'),\n",
       " (0.08632419561165247, 'Pclass_3'),\n",
       " (0.01550350532129759, 'LastName_Asplund'),\n",
       " (0.013304454223604026, 'SibSp'),\n",
       " (0.012902968940342173, 'Pclass_2'),\n",
       " (0.011912229481219984, 'LastName_Allison'),\n",
       " (0.010048949169836474, 'LastName_Turpin'),\n",
       " (0.009716697127559409, 'LastName_Beane'),\n",
       " (0.009700439837560828, 'LastName_Williams'),\n",
       " (0.009059187020395218, 'LastName_Barah'),\n",
       " (0.008974688592786263, 'LastName_Moubarek'),\n",
       " (0.008618288854542812, 'LastName_Henry'),\n",
       " (0.008571633934475497, 'LastName_Stranden'),\n",
       " (0.008190897471306248, 'LastName_Moran'),\n",
       " (0.008184177319090276, 'LastName_Persson'),\n",
       " (0.008033042943587776, 'LastName_Harris'),\n",
       " (0.0078628561708925, 'LastName_Jansson'),\n",
       " (0.007588536029505206, 'LastName_Cohen'),\n",
       " (0.007349354906214161, 'LastName_Padro y Manent'),\n",
       " (0.007137445465497173, 'LastName_Moss'),\n",
       " (0.006947319684701549, 'LastName_Lulic'),\n",
       " (0.006774996081242183, 'LastName_Sundman'),\n",
       " (0.0066174939353170845, 'LastName_Leeni'),\n",
       " (0.006472523521856936, 'LastName_McCoy'),\n",
       " (0.0063841926844472995, 'LastName_Yrois'),\n",
       " (0.0063382876827800866, 'LastName_Lindqvist'),\n",
       " (0.006213349903977676, 'LastName_Tornquist'),\n",
       " (0.006096543813439718, 'LastName_Beesley'),\n",
       " (0.005986909407687282, 'LastName_McCormack'),\n",
       " (0.005976761469581218, 'LastName_Pettersson'),\n",
       " (0.005883647057671963, 'LastName_Nakid'),\n",
       " (0.005786083657576931, 'LastName_Jussila'),\n",
       " (0.005768573236468648, 'LastName_Palsson'),\n",
       " (0.005750853098253676, 'LastName_Funk'),\n",
       " (0.005693647260925709, 'LastName_Daly'),\n",
       " (0.0056058477714440195, 'LastName_Sunderland'),\n",
       " (0.005522262032703233, 'LastName_Pickard'),\n",
       " (0.005442522166089172, 'LastName_Sheerlinck'),\n",
       " (0.0053663063431123904, 'LastName_Hosono'),\n",
       " (0.005293331406563774, 'LastName_Niskanen'),\n",
       " (0.005287044157607053, 'LastName_Mack'),\n",
       " (0.005223346913020981, 'LastName_Albimona'),\n",
       " (0.005156130280273831, 'LastName_Johannesen-Bratthammer'),\n",
       " (0.005091482802502876, 'LastName_de Mulder'),\n",
       " (0.0050410485636611, 'LastName_Woolner'),\n",
       " (0.0050410485636611, 'LastName_Frolicher-Stehli'),\n",
       " (0.0050292263533966925, 'LastName_Jalsevac'),\n",
       " (0.005016950787595276, 'LastName_Canavan'),\n",
       " (0.004969200639420069, 'LastName_Hedman'),\n",
       " (0.004922918208761929, 'LastName_Lahtinen'),\n",
       " (0.004911260896607471, 'LastName_Andersson'),\n",
       " (0.0048552759476181324, 'LastName_Dorking'),\n",
       " (0.004801126553469093, 'LastName_Madsen'),\n",
       " (0.004748704007889281, 'LastName_Mamee'),\n",
       " (0.004697908932659154, 'LastName_Dahl'),\n",
       " (0.004648650240401832, 'LastName_Mellors'),\n",
       " (0.004624526581641619, 'LastName_Carter'),\n",
       " (0.004600844237650835, 'LastName_Jonsson'),\n",
       " (0.004554413846021686, 'LastName_Wilhelms'),\n",
       " (0.004413177640298545, \"LastName_O'Sullivan\"),\n",
       " (0.004139946322102415, 'Embarked_C'),\n",
       " (0.004117847306150949, 'LastName_Sloper'),\n",
       " (0.004117847306150949, 'LastName_Simonius-Blumer'),\n",
       " (0.003977636848427161, 'LastName_Lindahl'),\n",
       " (0.00364056722219978, 'LastName_Harknett'),\n",
       " (0.0035478814133279614, 'LastName_Blank'),\n",
       " (0.0033680988285374135, 'LastName_Vestrom'),\n",
       " (0.0031411808836004826, 'Parch'),\n",
       " (0.0029480284603076623, 'LastName_Hegarty'),\n",
       " (0.0, 'Sex_female'),\n",
       " (0.0, 'Pclass_1'),\n",
       " (0.0, 'LastName_van Melkebeke'),\n",
       " (0.0, 'LastName_van Billiard'),\n",
       " (0.0, 'LastName_del Carlo'),\n",
       " (0.0, 'LastName_de Pelsmaeker'),\n",
       " (0.0, 'LastName_de Messemaeker'),\n",
       " (0.0, 'LastName_Zimmerman'),\n",
       " (0.0, 'LastName_Zabour'),\n",
       " (0.0, 'LastName_Yousseff'),\n",
       " (0.0, 'LastName_Yousif'),\n",
       " (0.0, 'LastName_Youseff'),\n",
       " (0.0, 'LastName_Young'),\n",
       " (0.0, 'LastName_Yasbeck'),\n",
       " (0.0, 'LastName_Wright'),\n",
       " (0.0, 'LastName_Wiseman'),\n",
       " (0.0, 'LastName_Windelov'),\n",
       " (0.0, 'LastName_Williams-Lambert'),\n",
       " (0.0, 'LastName_Willey'),\n",
       " (0.0, 'LastName_Wiklund'),\n",
       " (0.0, 'LastName_Widener'),\n",
       " (0.0, 'LastName_Widegren'),\n",
       " (0.0, 'LastName_Wick'),\n",
       " (0.0, 'LastName_White'),\n",
       " (0.0, 'LastName_Wheadon'),\n",
       " (0.0, 'LastName_West'),\n",
       " (0.0, 'LastName_Wells'),\n",
       " (0.0, 'LastName_Weisz'),\n",
       " (0.0, 'LastName_Weir'),\n",
       " (0.0, 'LastName_Webber'),\n",
       " (0.0, 'LastName_Watt'),\n",
       " (0.0, 'LastName_Watson'),\n",
       " (0.0, 'LastName_Warren'),\n",
       " (0.0, 'LastName_Ward'),\n",
       " (0.0, 'LastName_Walker'),\n",
       " (0.0, 'LastName_Waelens'),\n",
       " (0.0, 'LastName_Vovk'),\n",
       " (0.0, 'LastName_Vander Planke'),\n",
       " (0.0, 'LastName_Vander Cruyssen'),\n",
       " (0.0, 'LastName_Vanden Steen'),\n",
       " (0.0, 'LastName_Vande Walle'),\n",
       " (0.0, 'LastName_Vande Velde'),\n",
       " (0.0, 'LastName_Van der hoef'),\n",
       " (0.0, 'LastName_Van Impe'),\n",
       " (0.0, 'LastName_Uruchurtu'),\n",
       " (0.0, 'LastName_Turkula'),\n",
       " (0.0, 'LastName_Turja'),\n",
       " (0.0, 'LastName_Turcin'),\n",
       " (0.0, 'LastName_Troutt'),\n",
       " (0.0, 'LastName_Trout'),\n",
       " (0.0, 'LastName_Troupiansky'),\n",
       " (0.0, 'LastName_Touma'),\n",
       " (0.0, 'LastName_Toufik'),\n",
       " (0.0, 'LastName_Torber'),\n",
       " (0.0, 'LastName_Toomey'),\n",
       " (0.0, 'LastName_Tomlin'),\n",
       " (0.0, 'LastName_Todoroff'),\n",
       " (0.0, 'LastName_Tobin'),\n",
       " (0.0, 'LastName_Tikkanen'),\n",
       " (0.0, 'LastName_Thorneycroft'),\n",
       " (0.0, 'LastName_Thorne'),\n",
       " (0.0, 'LastName_Thomas'),\n",
       " (0.0, 'LastName_Theobald'),\n",
       " (0.0, 'LastName_Thayer'),\n",
       " (0.0, 'LastName_Taylor'),\n",
       " (0.0, 'LastName_Taussig'),\n",
       " (0.0, 'LastName_Swift'),\n",
       " (0.0, 'LastName_Svensson'),\n",
       " (0.0, 'LastName_Sutton'),\n",
       " (0.0, 'LastName_Sutehall'),\n",
       " (0.0, 'LastName_Strom'),\n",
       " (0.0, 'LastName_Strandberg'),\n",
       " (0.0, 'LastName_Stoytcheff'),\n",
       " (0.0, 'LastName_Stone'),\n",
       " (0.0, 'LastName_Stewart'),\n",
       " (0.0, 'LastName_Stephenson'),\n",
       " (0.0, 'LastName_Stead'),\n",
       " (0.0, 'LastName_Stanley'),\n",
       " (0.0, 'LastName_Stankovic'),\n",
       " (0.0, 'LastName_Staneff'),\n",
       " (0.0, 'LastName_Stahelin-Maeglin'),\n",
       " (0.0, 'LastName_Spencer'),\n",
       " (0.0, 'LastName_Spedden'),\n",
       " (0.0, 'LastName_Somerton'),\n",
       " (0.0, 'LastName_Soholt'),\n",
       " (0.0, 'LastName_Sobey'),\n",
       " (0.0, 'LastName_Smith'),\n",
       " (0.0, 'LastName_Smiljanic'),\n",
       " (0.0, 'LastName_Smart'),\n",
       " (0.0, 'LastName_Slocovski'),\n",
       " (0.0, 'LastName_Slemen'),\n",
       " (0.0, 'LastName_Slayter'),\n",
       " (0.0, 'LastName_Slabenoff'),\n",
       " (0.0, 'LastName_Skoog'),\n",
       " (0.0, 'LastName_Sjostedt'),\n",
       " (0.0, 'LastName_Sjoblom'),\n",
       " (0.0, 'LastName_Sivola'),\n",
       " (0.0, 'LastName_Sivic'),\n",
       " (0.0, 'LastName_Sirota'),\n",
       " (0.0, 'LastName_Sirayanian'),\n",
       " (0.0, 'LastName_Sinkkonen'),\n",
       " (0.0, 'LastName_Simmons'),\n",
       " (0.0, 'LastName_Silvey'),\n",
       " (0.0, 'LastName_Silverthorne'),\n",
       " (0.0, 'LastName_Silven'),\n",
       " (0.0, 'LastName_Shutes'),\n",
       " (0.0, 'LastName_Shorney'),\n",
       " (0.0, 'LastName_Shelley'),\n",
       " (0.0, 'LastName_Shellard'),\n",
       " (0.0, 'LastName_Sharp'),\n",
       " (0.0, 'LastName_Seward'),\n",
       " (0.0, 'LastName_Serepeca'),\n",
       " (0.0, 'LastName_Sedgwick'),\n",
       " (0.0, 'LastName_Sdycoff'),\n",
       " (0.0, 'LastName_Scanlan'),\n",
       " (0.0, 'LastName_Sawyer'),\n",
       " (0.0, 'LastName_Saundercock'),\n",
       " (0.0, 'LastName_Sandstrom'),\n",
       " (0.0, 'LastName_Samaan'),\n",
       " (0.0, 'LastName_Salonen'),\n",
       " (0.0, 'LastName_Salkjelsvik'),\n",
       " (0.0, 'LastName_Sagesser'),\n",
       " (0.0, 'LastName_Sage'),\n",
       " (0.0, 'LastName_Sadlier'),\n",
       " (0.0, 'LastName_Saalfeld'),\n",
       " (0.0, 'LastName_Saad'),\n",
       " (0.0, 'LastName_Ryerson'),\n",
       " (0.0, 'LastName_Ryan'),\n",
       " (0.0, 'LastName_Rush'),\n",
       " (0.0, 'LastName_Rugg'),\n",
       " (0.0, 'LastName_Rouse'),\n",
       " (0.0, 'LastName_Rothschild'),\n",
       " (0.0, 'LastName_Rothes'),\n",
       " (0.0, 'LastName_Ross'),\n",
       " (0.0, 'LastName_Rosblom'),\n",
       " (0.0, 'LastName_Rood'),\n",
       " (0.0, 'LastName_Rommetvedt'),\n",
       " (0.0, 'LastName_Romaine'),\n",
       " (0.0, 'LastName_Rogers'),\n",
       " (0.0, 'LastName_Roebling'),\n",
       " (0.0, 'LastName_Robins'),\n",
       " (0.0, 'LastName_Robert'),\n",
       " (0.0, 'LastName_Robbins'),\n",
       " (0.0, 'LastName_Risien'),\n",
       " (0.0, 'LastName_Rintamaki'),\n",
       " (0.0, 'LastName_Ringhini'),\n",
       " (0.0, 'LastName_Ridsdale'),\n",
       " (0.0, 'LastName_Richards'),\n",
       " (0.0, 'LastName_Richard'),\n",
       " (0.0, 'LastName_Rice'),\n",
       " (0.0, 'LastName_Reynaldo'),\n",
       " (0.0, 'LastName_Reuchlin'),\n",
       " (0.0, 'LastName_Renouf'),\n",
       " (0.0, 'LastName_Rekic'),\n",
       " (0.0, 'LastName_Reeves'),\n",
       " (0.0, 'LastName_Reed'),\n",
       " (0.0, 'LastName_Razi'),\n",
       " (0.0, 'LastName_Radeff'),\n",
       " (0.0, 'LastName_Quick'),\n",
       " (0.0, 'LastName_Potter'),\n",
       " (0.0, 'LastName_Porter'),\n",
       " (0.0, 'LastName_Ponesell'),\n",
       " (0.0, 'LastName_Plotcharsky'),\n",
       " (0.0, 'LastName_Pinsky'),\n",
       " (0.0, 'LastName_Phillips'),\n",
       " (0.0, 'LastName_Peuchen'),\n",
       " (0.0, 'LastName_Petterson'),\n",
       " (0.0, 'LastName_Petroff'),\n",
       " (0.0, 'LastName_Petranec'),\n",
       " (0.0, 'LastName_Peters'),\n",
       " (0.0, 'LastName_Peter'),\n",
       " (0.0, 'LastName_Perreault'),\n",
       " (0.0, 'LastName_Pernot'),\n",
       " (0.0, 'LastName_Perkin'),\n",
       " (0.0, 'LastName_Pengelly'),\n",
       " (0.0, 'LastName_Penasco y Castellana'),\n",
       " (0.0, 'LastName_Pekoniemi'),\n",
       " (0.0, 'LastName_Peduzzi'),\n",
       " (0.0, 'LastName_Pears'),\n",
       " (0.0, 'LastName_Pavlovic'),\n",
       " (0.0, 'LastName_Paulner'),\n",
       " (0.0, 'LastName_Patchett'),\n",
       " (0.0, 'LastName_Pasic'),\n",
       " (0.0, 'LastName_Partner'),\n",
       " (0.0, 'LastName_Parrish'),\n",
       " (0.0, 'LastName_Parr'),\n",
       " (0.0, 'LastName_Parkes'),\n",
       " (0.0, 'LastName_Panula'),\n",
       " (0.0, 'LastName_Pain'),\n",
       " (0.0, 'LastName_Otter'),\n",
       " (0.0, 'LastName_Ostby'),\n",
       " (0.0, 'LastName_Osman'),\n",
       " (0.0, 'LastName_Osen'),\n",
       " (0.0, 'LastName_Oreskovic'),\n",
       " (0.0, 'LastName_Olsvigen'),\n",
       " (0.0, 'LastName_Olsson'),\n",
       " (0.0, 'LastName_Olsen'),\n",
       " (0.0, 'LastName_Ohman'),\n",
       " (0.0, 'LastName_Odahl'),\n",
       " (0.0, \"LastName_O'Leary\"),\n",
       " (0.0, \"LastName_O'Dwyer\"),\n",
       " (0.0, \"LastName_O'Driscoll\"),\n",
       " (0.0, \"LastName_O'Connor\"),\n",
       " (0.0, \"LastName_O'Connell\"),\n",
       " (0.0, \"LastName_O'Brien\"),\n",
       " (0.0, 'LastName_Nysveen'),\n",
       " (0.0, 'LastName_Nysten'),\n",
       " (0.0, 'LastName_Nye'),\n",
       " (0.0, 'LastName_Novel'),\n",
       " (0.0, 'LastName_Nosworthy'),\n",
       " (0.0, 'LastName_Norman'),\n",
       " (0.0, 'LastName_Nirva'),\n",
       " (0.0, 'LastName_Nilsson'),\n",
       " (0.0, 'LastName_Nicola-Yarred'),\n",
       " (0.0, 'LastName_Nicholson'),\n",
       " (0.0, 'LastName_Nicholls'),\n",
       " (0.0, 'LastName_Newsom'),\n",
       " (0.0, 'LastName_Newell'),\n",
       " (0.0, 'LastName_Nenkoff'),\n",
       " (0.0, 'LastName_Navratil'),\n",
       " (0.0, 'LastName_Natsch'),\n",
       " (0.0, 'LastName_Nasser'),\n",
       " (0.0, 'LastName_Nankoff'),\n",
       " (0.0, 'LastName_Najib'),\n",
       " (0.0, 'LastName_Naidenoff'),\n",
       " (0.0, 'LastName_Myhrman'),\n",
       " (0.0, 'LastName_Murphy'),\n",
       " (0.0, 'LastName_Murdlin'),\n",
       " (0.0, 'LastName_Mullens'),\n",
       " (0.0, 'LastName_Mudd'),\n",
       " (0.0, 'LastName_Moutal'),\n",
       " (0.0, 'LastName_Moussa'),\n",
       " (0.0, 'LastName_Morrow'),\n",
       " (0.0, 'LastName_Morley'),\n",
       " (0.0, 'LastName_Moraweck'),\n",
       " (0.0, 'LastName_Moore'),\n",
       " (0.0, 'LastName_Moor'),\n",
       " (0.0, 'LastName_Montvila'),\n",
       " (0.0, 'LastName_Molson'),\n",
       " (0.0, 'LastName_Moen'),\n",
       " (0.0, 'LastName_Mockler'),\n",
       " (0.0, 'LastName_Mitkoff'),\n",
       " (0.0, 'LastName_Mitchell'),\n",
       " (0.0, 'LastName_Mionoff'),\n",
       " (0.0, 'LastName_Mineff'),\n",
       " (0.0, 'LastName_Minahan'),\n",
       " (0.0, 'LastName_Milling'),\n",
       " (0.0, 'LastName_Millet'),\n",
       " (0.0, 'LastName_Meyer'),\n",
       " (0.0, 'LastName_Mernagh'),\n",
       " (0.0, 'LastName_Meo'),\n",
       " (0.0, 'LastName_Mellinger'),\n",
       " (0.0, 'LastName_Meek'),\n",
       " (0.0, 'LastName_Meanwell'),\n",
       " (0.0, 'LastName_McNamee'),\n",
       " (0.0, 'LastName_McMahon'),\n",
       " (0.0, 'LastName_McKane'),\n",
       " (0.0, 'LastName_McGowan'),\n",
       " (0.0, 'LastName_McGovern'),\n",
       " (0.0, 'LastName_McGough'),\n",
       " (0.0, 'LastName_McEvoy'),\n",
       " (0.0, 'LastName_McDermott'),\n",
       " (0.0, 'LastName_McCarthy'),\n",
       " (0.0, 'LastName_Mayne'),\n",
       " (0.0, 'LastName_Matthews'),\n",
       " (0.0, 'LastName_Masselmani'),\n",
       " (0.0, 'LastName_Marvin'),\n",
       " (0.0, 'LastName_Markun'),\n",
       " (0.0, 'LastName_Markoff'),\n",
       " (0.0, 'LastName_Marechal'),\n",
       " (0.0, 'LastName_Mannion'),\n",
       " (0.0, 'LastName_Mangan'),\n",
       " (0.0, 'LastName_Mallet'),\n",
       " (0.0, 'LastName_Maisner'),\n",
       " (0.0, 'LastName_Maioni'),\n",
       " (0.0, 'LastName_Maenpaa'),\n",
       " (0.0, 'LastName_Madill'),\n",
       " (0.0, 'LastName_Madigan'),\n",
       " (0.0, 'LastName_Lurette'),\n",
       " (0.0, 'LastName_Lundahl'),\n",
       " (0.0, 'LastName_Lovell'),\n",
       " (0.0, 'LastName_Louch'),\n",
       " (0.0, 'LastName_Longley'),\n",
       " (0.0, 'LastName_Long'),\n",
       " (0.0, 'LastName_Lobb'),\n",
       " (0.0, 'LastName_Ling'),\n",
       " (0.0, 'LastName_Lines'),\n",
       " (0.0, 'LastName_Lindell'),\n",
       " (0.0, 'LastName_Lindblom'),\n",
       " (0.0, 'LastName_Lievens'),\n",
       " (0.0, 'LastName_Leyson'),\n",
       " (0.0, 'LastName_Lewy'),\n",
       " (0.0, 'LastName_Levy'),\n",
       " (0.0, 'LastName_Lesurer'),\n",
       " (0.0, 'LastName_Lester'),\n",
       " (0.0, 'LastName_Leonard'),\n",
       " (0.0, 'LastName_Lennon'),\n",
       " (0.0, 'LastName_Lemore'),\n",
       " (0.0, 'LastName_Lemberopolous'),\n",
       " (0.0, 'LastName_Leitch'),\n",
       " (0.0, 'LastName_Leinonen'),\n",
       " (0.0, 'LastName_Lehmann'),\n",
       " (0.0, 'LastName_Lefebre'),\n",
       " (0.0, 'LastName_Leader'),\n",
       " (0.0, 'LastName_LeRoy'),\n",
       " (0.0, 'LastName_Larsson'),\n",
       " (0.0, 'LastName_Laroche'),\n",
       " (0.0, 'LastName_Lang'),\n",
       " (0.0, 'LastName_Landergren'),\n",
       " (0.0, 'LastName_Lam'),\n",
       " (0.0, 'LastName_Laleff'),\n",
       " (0.0, 'LastName_Laitinen'),\n",
       " (0.0, 'LastName_Lahoud'),\n",
       " (0.0, 'LastName_Kvillner'),\n",
       " (0.0, 'LastName_Kraeff'),\n",
       " (0.0, 'LastName_Knight'),\n",
       " (0.0, 'LastName_Klasen'),\n",
       " (0.0, 'LastName_Klaber'),\n",
       " (0.0, 'LastName_Kirkland'),\n",
       " (0.0, 'LastName_Kink-Heilmann'),\n",
       " (0.0, 'LastName_Kink'),\n",
       " (0.0, 'LastName_Kimball'),\n",
       " (0.0, 'LastName_Kilgannon'),\n",
       " (0.0, 'LastName_Kiernan'),\n",
       " (0.0, 'LastName_Kenyon'),\n",
       " (0.0, 'LastName_Kent'),\n",
       " (0.0, 'LastName_Kelly'),\n",
       " (0.0, 'LastName_Keefe'),\n",
       " (0.0, 'LastName_Keane'),\n",
       " (0.0, 'LastName_Kassem'),\n",
       " (0.0, 'LastName_Karun'),\n",
       " (0.0, 'LastName_Karlsson'),\n",
       " (0.0, 'LastName_Karaic'),\n",
       " (0.0, 'LastName_Kantor'),\n",
       " (0.0, 'LastName_Kalvik'),\n",
       " (0.0, 'LastName_Kallio'),\n",
       " (0.0, 'LastName_Jonkoff'),\n",
       " (0.0, 'LastName_Johnston'),\n",
       " (0.0, 'LastName_Johnson'),\n",
       " (0.0, 'LastName_Johansson'),\n",
       " (0.0, 'LastName_Johanson'),\n",
       " (0.0, 'LastName_Jerwan'),\n",
       " (0.0, 'LastName_Jermyn'),\n",
       " (0.0, 'LastName_Jensen'),\n",
       " (0.0, 'LastName_Jenkin'),\n",
       " (0.0, 'LastName_Jarvis'),\n",
       " (0.0, 'LastName_Jardin'),\n",
       " (0.0, 'LastName_Jacobsohn'),\n",
       " (0.0, 'LastName_Ivanoff'),\n",
       " (0.0, 'LastName_Isham'),\n",
       " (0.0, 'LastName_Ilmakangas'),\n",
       " (0.0, 'LastName_Ilett'),\n",
       " (0.0, 'LastName_Icard'),\n",
       " (0.0, 'LastName_Ibrahim Shawah'),\n",
       " (0.0, 'LastName_Hunt'),\n",
       " (0.0, 'LastName_Humblen'),\n",
       " (0.0, 'LastName_Hoyt'),\n",
       " (0.0, 'LastName_Horgan'),\n",
       " (0.0, 'LastName_Hood'),\n",
       " (0.0, 'LastName_Honkanen'),\n",
       " (0.0, 'LastName_Homer'),\n",
       " (0.0, 'LastName_Holverson'),\n",
       " (0.0, 'LastName_Holm'),\n",
       " (0.0, 'LastName_Hold'),\n",
       " (0.0, 'LastName_Hogeboom'),\n",
       " (0.0, 'LastName_Hodges'),\n",
       " (0.0, 'LastName_Hocking'),\n",
       " (0.0, 'LastName_Hirvonen'),\n",
       " (0.0, 'LastName_Hippach'),\n",
       " (0.0, 'LastName_Hickman'),\n",
       " (0.0, 'LastName_Hewlett'),\n",
       " (0.0, 'LastName_Herman'),\n",
       " (0.0, 'LastName_Hendekovic'),\n",
       " (0.0, 'LastName_Heininen'),\n",
       " (0.0, 'LastName_Heikkinen'),\n",
       " (0.0, 'LastName_Healy'),\n",
       " (0.0, 'LastName_Hays'),\n",
       " (0.0, 'LastName_Hawksford'),\n",
       " (0.0, 'LastName_Hassan'),\n",
       " (0.0, 'LastName_Hassab'),\n",
       " (0.0, 'LastName_Hart'),\n",
       " (0.0, 'LastName_Harrison'),\n",
       " (0.0, 'LastName_Harrington'),\n",
       " (0.0, 'LastName_Harper'),\n",
       " (0.0, 'LastName_Harmer'),\n",
       " (0.0, 'LastName_Harder'),\n",
       " (0.0, 'LastName_Hansen'),\n",
       " (0.0, 'LastName_Hanna'),\n",
       " (0.0, 'LastName_Hampe'),\n",
       " (0.0, 'LastName_Hamalainen'),\n",
       " (0.0, 'LastName_Hale'),\n",
       " (0.0, 'LastName_Hakkarainen'),\n",
       " (0.0, 'LastName_Hagland'),\n",
       " (0.0, 'LastName_Haas'),\n",
       " (0.0, 'LastName_Gustafsson'),\n",
       " (0.0, 'LastName_Guggenheim'),\n",
       " (0.0, 'LastName_Gronnestad'),\n",
       " (0.0, 'LastName_Greenfield'),\n",
       " (0.0, 'LastName_Greenberg'),\n",
       " (0.0, 'LastName_Green'),\n",
       " (0.0, 'LastName_Graham'),\n",
       " (0.0, 'LastName_Goodwin'),\n",
       " (0.0, 'LastName_Goncalves'),\n",
       " (0.0, 'LastName_Goldsmith'),\n",
       " (0.0, 'LastName_Goldschmidt'),\n",
       " (0.0, 'LastName_Goldenberg'),\n",
       " (0.0, 'LastName_Glynn'),\n",
       " (0.0, 'LastName_Givard'),\n",
       " (0.0, 'LastName_Gilnagh'),\n",
       " (0.0, 'LastName_Gillespie'),\n",
       " (0.0, 'LastName_Gill'),\n",
       " (0.0, 'LastName_Gilinski'),\n",
       " (0.0, 'LastName_Giles'),\n",
       " (0.0, 'LastName_Giglio'),\n",
       " (0.0, 'LastName_Gheorgheff'),\n",
       " (0.0, 'LastName_Gee'),\n",
       " (0.0, 'LastName_Gavey'),\n",
       " (0.0, 'LastName_Gaskell'),\n",
       " (0.0, 'LastName_Garside'),\n",
       " (0.0, 'LastName_Garfirth'),\n",
       " (0.0, 'LastName_Gallagher'),\n",
       " (0.0, 'LastName_Gale'),\n",
       " (0.0, 'LastName_Fynney'),\n",
       " (0.0, 'LastName_Futrelle'),\n",
       " (0.0, 'LastName_Fry'),\n",
       " (0.0, 'LastName_Frost'),\n",
       " (0.0, 'LastName_Frolicher'),\n",
       " (0.0, 'LastName_Frauenthal'),\n",
       " (0.0, 'LastName_Francatelli'),\n",
       " (0.0, 'LastName_Fox'),\n",
       " (0.0, 'LastName_Fortune'),\n",
       " (0.0, 'LastName_Foreman'),\n",
       " (0.0, 'LastName_Ford'),\n",
       " (0.0, 'LastName_Foo'),\n",
       " (0.0, 'LastName_Flynn'),\n",
       " (0.0, 'LastName_Fleming'),\n",
       " (0.0, 'LastName_Fischer'),\n",
       " (0.0, 'LastName_Faunthorpe'),\n",
       " (0.0, 'LastName_Farthing'),\n",
       " (0.0, 'LastName_Farrell'),\n",
       " (0.0, 'LastName_Fahlstrom'),\n",
       " (0.0, 'LastName_Eustis'),\n",
       " (0.0, 'LastName_Endres'),\n",
       " (0.0, 'LastName_Emir'),\n",
       " (0.0, 'LastName_Emanuel'),\n",
       " (0.0, 'LastName_Elsbury'),\n",
       " (0.0, 'LastName_Elias'),\n",
       " (0.0, 'LastName_Ekstrom'),\n",
       " (0.0, 'LastName_Eklund'),\n",
       " (0.0, 'LastName_Eitemiller'),\n",
       " (0.0, 'LastName_Edvardsson'),\n",
       " (0.0, 'LastName_Duran y More'),\n",
       " (0.0, 'LastName_Duff Gordon'),\n",
       " (0.0, 'LastName_Duane'),\n",
       " (0.0, 'LastName_Drew'),\n",
       " (0.0, 'LastName_Drazenoic'),\n",
       " (0.0, 'LastName_Downton'),\n",
       " (0.0, 'LastName_Dowdell'),\n",
       " (0.0, 'LastName_Douglas'),\n",
       " (0.0, 'LastName_Dooley'),\n",
       " (0.0, 'LastName_Doling'),\n",
       " (0.0, 'LastName_Doharr'),\n",
       " (0.0, 'LastName_Dodge'),\n",
       " (0.0, 'LastName_Dimic'),\n",
       " (0.0, 'LastName_Dick'),\n",
       " (0.0, 'LastName_Devaney'),\n",
       " (0.0, 'LastName_Dennis'),\n",
       " (0.0, 'LastName_Denkoff'),\n",
       " (0.0, 'LastName_Dean'),\n",
       " (0.0, 'LastName_Davison'),\n",
       " (0.0, 'LastName_Davis'),\n",
       " (0.0, 'LastName_Davies'),\n",
       " (0.0, 'LastName_Davidson'),\n",
       " (0.0, 'LastName_Dantcheff'),\n",
       " (0.0, 'LastName_Danoff'),\n",
       " (0.0, 'LastName_Daniel'),\n",
       " (0.0, 'LastName_Danbom'),\n",
       " (0.0, 'LastName_Dakic'),\n",
       " (0.0, 'LastName_Dahlberg'),\n",
       " (0.0, 'LastName_Cunningham'),\n",
       " (0.0, 'LastName_Cumings'),\n",
       " (0.0, 'LastName_Culumovic'),\n",
       " (0.0, 'LastName_Crosby'),\n",
       " (0.0, 'LastName_Cribb'),\n",
       " (0.0, 'LastName_Crease'),\n",
       " (0.0, 'LastName_Coxon'),\n",
       " (0.0, 'LastName_Coutts'),\n",
       " (0.0, 'LastName_Corn'),\n",
       " (0.0, 'LastName_Cor'),\n",
       " (0.0, 'LastName_Cook'),\n",
       " (0.0, 'LastName_Connors'),\n",
       " (0.0, 'LastName_Connolly'),\n",
       " (0.0, 'LastName_Connaghton'),\n",
       " (0.0, 'LastName_Compton'),\n",
       " (0.0, 'LastName_Collyer'),\n",
       " (0.0, 'LastName_Colley'),\n",
       " (0.0, 'LastName_Collander'),\n",
       " (0.0, 'LastName_Coleridge'),\n",
       " (0.0, 'LastName_Coleff'),\n",
       " (0.0, 'LastName_Coelho'),\n",
       " (0.0, 'LastName_Clifford'),\n",
       " (0.0, 'LastName_Cleaver'),\n",
       " (0.0, 'LastName_Clarke'),\n",
       " (0.0, 'LastName_Chronopoulos'),\n",
       " (0.0, 'LastName_Christy'),\n",
       " (0.0, 'LastName_Christmann'),\n",
       " (0.0, 'LastName_Chip'),\n",
       " (0.0, 'LastName_Chibnall'),\n",
       " (0.0, 'LastName_Cherry'),\n",
       " (0.0, 'LastName_Charters'),\n",
       " (0.0, 'LastName_Chapman'),\n",
       " (0.0, 'LastName_Chambers'),\n",
       " (0.0, 'LastName_Chaffee'),\n",
       " (0.0, 'LastName_Celotti'),\n",
       " (0.0, 'LastName_Cavendish'),\n",
       " (0.0, 'LastName_Carrau'),\n",
       " (0.0, 'LastName_Carr'),\n",
       " (0.0, 'LastName_Carlsson'),\n",
       " (0.0, 'LastName_Cardeza'),\n",
       " (0.0, 'LastName_Carbines'),\n",
       " (0.0, 'LastName_Caram'),\n",
       " (0.0, 'LastName_Cann'),\n",
       " (0.0, 'LastName_Campbell'),\n",
       " (0.0, 'LastName_Cameron'),\n",
       " (0.0, 'LastName_Calic'),\n",
       " (0.0, 'LastName_Caldwell'),\n",
       " (0.0, 'LastName_Calderhead'),\n",
       " (0.0, 'LastName_Cairns'),\n",
       " (0.0, 'LastName_Cacic'),\n",
       " (0.0, 'LastName_Bystrom'),\n",
       " (0.0, 'LastName_Byles'),\n",
       " (0.0, 'LastName_Butt'),\n",
       " (0.0, 'LastName_Butler'),\n",
       " (0.0, 'LastName_Buss'),\n",
       " (0.0, 'LastName_Burns'),\n",
       " (0.0, 'LastName_Burke'),\n",
       " (0.0, 'LastName_Bryhl'),\n",
       " (0.0, 'LastName_Brown'),\n",
       " (0.0, 'LastName_Brocklebank'),\n",
       " (0.0, 'LastName_Brewe'),\n",
       " (0.0, 'LastName_Braund'),\n",
       " (0.0, 'LastName_Bradley'),\n",
       " (0.0, 'LastName_Bracken'),\n",
       " (0.0, 'LastName_Bowerman'),\n",
       " (0.0, 'LastName_Bowen'),\n",
       " (0.0, 'LastName_Bourke'),\n",
       " (0.0, 'LastName_Boulos'),\n",
       " (0.0, 'LastName_Bostandyeff'),\n",
       " (0.0, 'LastName_Bonnell'),\n",
       " (0.0, 'LastName_Blackwell'),\n",
       " (0.0, 'LastName_Bjornstrom-Steffansson'),\n",
       " (0.0, 'LastName_Bissette'),\n",
       " (0.0, 'LastName_Bishop'),\n",
       " (0.0, 'LastName_Birkeland'),\n",
       " (0.0, 'LastName_Bing'),\n",
       " (0.0, 'LastName_Bidois'),\n",
       " (0.0, 'LastName_Betros'),\n",
       " (0.0, 'LastName_Berriman'),\n",
       " (0.0, 'LastName_Berglund'),\n",
       " (0.0, 'LastName_Bengtsson'),\n",
       " (0.0, 'LastName_Behr'),\n",
       " (0.0, 'LastName_Beckwith'),\n",
       " (0.0, 'LastName_Becker'),\n",
       " (0.0, 'LastName_Beavan'),\n",
       " (0.0, 'LastName_Bazzani'),\n",
       " (0.0, 'LastName_Baxter'),\n",
       " (0.0, 'LastName_Baumann'),\n",
       " (0.0, 'LastName_Bateman'),\n",
       " (0.0, 'LastName_Barton'),\n",
       " (0.0, 'LastName_Barkworth'),\n",
       " (0.0, 'LastName_Barber'),\n",
       " (0.0, 'LastName_Barbara'),\n",
       " (0.0, 'LastName_Banfield'),\n",
       " (0.0, 'LastName_Ball'),\n",
       " (0.0, 'LastName_Balkic'),\n",
       " (0.0, 'LastName_Bailey'),\n",
       " (0.0, 'LastName_Badt'),\n",
       " (0.0, 'LastName_Baclini'),\n",
       " (0.0, 'LastName_Backstrom'),\n",
       " (0.0, 'LastName_Ayoub'),\n",
       " (0.0, 'LastName_Augustsson'),\n",
       " (0.0, 'LastName_Aubart'),\n",
       " (0.0, 'LastName_Attalah'),\n",
       " (0.0, 'LastName_Astor'),\n",
       " (0.0, 'LastName_Asim'),\n",
       " (0.0, 'LastName_Artagaveytia'),\n",
       " (0.0, 'LastName_Arnold-Franchi'),\n",
       " (0.0, 'LastName_Appleton'),\n",
       " (0.0, 'LastName_Angle'),\n",
       " (0.0, 'LastName_Andrews'),\n",
       " (0.0, 'LastName_Andrew'),\n",
       " (0.0, 'LastName_Andreasson'),\n",
       " (0.0, 'LastName_Anderson'),\n",
       " (0.0, 'LastName_Andersen-Jensen'),\n",
       " (0.0, 'LastName_Allum'),\n",
       " (0.0, 'LastName_Allen'),\n",
       " (0.0, 'LastName_Ali'),\n",
       " (0.0, 'LastName_Alhomaki'),\n",
       " (0.0, 'LastName_Alexander'),\n",
       " (0.0, 'LastName_Aks'),\n",
       " (0.0, 'LastName_Ahlin'),\n",
       " (0.0, 'LastName_Adams'),\n",
       " (0.0, 'LastName_Adahl'),\n",
       " (0.0, 'LastName_Abelson'),\n",
       " (0.0, 'LastName_Abbott'),\n",
       " (0.0, 'LastName_Abbing'),\n",
       " (0.0, 'Embarked_S'),\n",
       " (0.0, 'Embarked_Q')]"
      ]
     },
     "execution_count": 211,
     "metadata": {},
     "output_type": "execute_result"
    }
   ],
   "source": [
    "importance = zip(best_dt.feature_importances_, trainingWithNames.columns.tolist())\n",
    "mostImport = sorted(importance, reverse=True)\n",
    "list(mostImport)"
   ]
  },
  {
   "cell_type": "markdown",
   "metadata": {},
   "source": [
    "Aha, lots of significant names, which explains why the decision with all the names performed better and the version trained with only 20 significant features did not perform so well. I should have picked a number more akin to 80 or 100.\n",
    "\n",
    "-------------------------------------------\n",
    "\n",
    "Anyhow, lets go ahead and use our best decision tree to make the predictions"
   ]
  },
  {
   "cell_type": "code",
   "execution_count": 213,
   "metadata": {
    "ExecuteTime": {
     "end_time": "2019-02-12T03:26:50.913889Z",
     "start_time": "2019-02-12T03:26:50.895454Z"
    }
   },
   "outputs": [
    {
     "data": {
      "text/html": [
       "<div>\n",
       "<style scoped>\n",
       "    .dataframe tbody tr th:only-of-type {\n",
       "        vertical-align: middle;\n",
       "    }\n",
       "\n",
       "    .dataframe tbody tr th {\n",
       "        vertical-align: top;\n",
       "    }\n",
       "\n",
       "    .dataframe thead th {\n",
       "        text-align: right;\n",
       "    }\n",
       "</style>\n",
       "<table border=\"1\" class=\"dataframe\">\n",
       "  <thead>\n",
       "    <tr style=\"text-align: right;\">\n",
       "      <th></th>\n",
       "      <th>PassengerId</th>\n",
       "      <th>Pclass</th>\n",
       "      <th>Name</th>\n",
       "      <th>Sex</th>\n",
       "      <th>Age</th>\n",
       "      <th>SibSp</th>\n",
       "      <th>Parch</th>\n",
       "      <th>Ticket</th>\n",
       "      <th>Fare</th>\n",
       "      <th>Cabin</th>\n",
       "      <th>Embarked</th>\n",
       "    </tr>\n",
       "  </thead>\n",
       "  <tbody>\n",
       "    <tr>\n",
       "      <th>0</th>\n",
       "      <td>892</td>\n",
       "      <td>3</td>\n",
       "      <td>Kelly, Mr. James</td>\n",
       "      <td>male</td>\n",
       "      <td>34.5</td>\n",
       "      <td>0</td>\n",
       "      <td>0</td>\n",
       "      <td>330911</td>\n",
       "      <td>7.8292</td>\n",
       "      <td>NaN</td>\n",
       "      <td>Q</td>\n",
       "    </tr>\n",
       "    <tr>\n",
       "      <th>1</th>\n",
       "      <td>893</td>\n",
       "      <td>3</td>\n",
       "      <td>Wilkes, Mrs. James (Ellen Needs)</td>\n",
       "      <td>female</td>\n",
       "      <td>47.0</td>\n",
       "      <td>1</td>\n",
       "      <td>0</td>\n",
       "      <td>363272</td>\n",
       "      <td>7.0000</td>\n",
       "      <td>NaN</td>\n",
       "      <td>S</td>\n",
       "    </tr>\n",
       "    <tr>\n",
       "      <th>2</th>\n",
       "      <td>894</td>\n",
       "      <td>2</td>\n",
       "      <td>Myles, Mr. Thomas Francis</td>\n",
       "      <td>male</td>\n",
       "      <td>62.0</td>\n",
       "      <td>0</td>\n",
       "      <td>0</td>\n",
       "      <td>240276</td>\n",
       "      <td>9.6875</td>\n",
       "      <td>NaN</td>\n",
       "      <td>Q</td>\n",
       "    </tr>\n",
       "    <tr>\n",
       "      <th>3</th>\n",
       "      <td>895</td>\n",
       "      <td>3</td>\n",
       "      <td>Wirz, Mr. Albert</td>\n",
       "      <td>male</td>\n",
       "      <td>27.0</td>\n",
       "      <td>0</td>\n",
       "      <td>0</td>\n",
       "      <td>315154</td>\n",
       "      <td>8.6625</td>\n",
       "      <td>NaN</td>\n",
       "      <td>S</td>\n",
       "    </tr>\n",
       "    <tr>\n",
       "      <th>4</th>\n",
       "      <td>896</td>\n",
       "      <td>3</td>\n",
       "      <td>Hirvonen, Mrs. Alexander (Helga E Lindqvist)</td>\n",
       "      <td>female</td>\n",
       "      <td>22.0</td>\n",
       "      <td>1</td>\n",
       "      <td>1</td>\n",
       "      <td>3101298</td>\n",
       "      <td>12.2875</td>\n",
       "      <td>NaN</td>\n",
       "      <td>S</td>\n",
       "    </tr>\n",
       "  </tbody>\n",
       "</table>\n",
       "</div>"
      ],
      "text/plain": [
       "   PassengerId  Pclass                                          Name     Sex  \\\n",
       "0          892       3                              Kelly, Mr. James    male   \n",
       "1          893       3              Wilkes, Mrs. James (Ellen Needs)  female   \n",
       "2          894       2                     Myles, Mr. Thomas Francis    male   \n",
       "3          895       3                              Wirz, Mr. Albert    male   \n",
       "4          896       3  Hirvonen, Mrs. Alexander (Helga E Lindqvist)  female   \n",
       "\n",
       "    Age  SibSp  Parch   Ticket     Fare Cabin Embarked  \n",
       "0  34.5      0      0   330911   7.8292   NaN        Q  \n",
       "1  47.0      1      0   363272   7.0000   NaN        S  \n",
       "2  62.0      0      0   240276   9.6875   NaN        Q  \n",
       "3  27.0      0      0   315154   8.6625   NaN        S  \n",
       "4  22.0      1      1  3101298  12.2875   NaN        S  "
      ]
     },
     "execution_count": 213,
     "metadata": {},
     "output_type": "execute_result"
    }
   ],
   "source": [
    "raw_test.head()"
   ]
  },
  {
   "cell_type": "markdown",
   "metadata": {},
   "source": [
    "Oops, I just realized that I didn't do a very good of setting up my pipeline and it won't be very easy to reuse for processing the test data for predictions. Lets clean that up a little."
   ]
  },
  {
   "cell_type": "code",
   "execution_count": 260,
   "metadata": {
    "ExecuteTime": {
     "end_time": "2019-02-12T04:32:39.145816Z",
     "start_time": "2019-02-12T04:32:39.077639Z"
    }
   },
   "outputs": [
    {
     "name": "stdout",
     "output_type": "stream",
     "text": [
      "        Age      Fare  Sex_female  Sex_male  Embarked_C  Embarked_Q  \\\n",
      "0 -0.592481 -0.502445         0.0       1.0         0.0         0.0   \n",
      "1  0.638789  0.786845         1.0       0.0         1.0         0.0   \n",
      "2 -0.284663 -0.488854         1.0       0.0         0.0         0.0   \n",
      "3  0.407926  0.420730         1.0       0.0         0.0         0.0   \n",
      "4  0.407926 -0.486337         0.0       1.0         0.0         0.0   \n",
      "\n",
      "   Embarked_S  Pclass_1  Pclass_2  Pclass_3  ...  Name_Yousseff  Name_Yrois  \\\n",
      "0         1.0       0.0       0.0       1.0  ...            0.0         0.0   \n",
      "1         0.0       1.0       0.0       0.0  ...            0.0         0.0   \n",
      "2         1.0       0.0       0.0       1.0  ...            0.0         0.0   \n",
      "3         1.0       1.0       0.0       0.0  ...            0.0         0.0   \n",
      "4         1.0       0.0       0.0       1.0  ...            0.0         0.0   \n",
      "\n",
      "   Name_Zabour  Name_Zimmerman  Name_de Messemaeker  Name_de Mulder  \\\n",
      "0          0.0             0.0                  0.0             0.0   \n",
      "1          0.0             0.0                  0.0             0.0   \n",
      "2          0.0             0.0                  0.0             0.0   \n",
      "3          0.0             0.0                  0.0             0.0   \n",
      "4          0.0             0.0                  0.0             0.0   \n",
      "\n",
      "   Name_de Pelsmaeker  Name_del Carlo  Name_van Billiard  Name_van Melkebeke  \n",
      "0                 0.0             0.0                0.0                 0.0  \n",
      "1                 0.0             0.0                0.0                 0.0  \n",
      "2                 0.0             0.0                0.0                 0.0  \n",
      "3                 0.0             0.0                0.0                 0.0  \n",
      "4                 0.0             0.0                0.0                 0.0  \n",
      "\n",
      "[5 rows x 679 columns]\n",
      "        Age      Fare  Sex_female  Sex_male  Embarked_C  Embarked_Q  \\\n",
      "0 -0.592481 -0.502445         0.0       1.0         0.0         0.0   \n",
      "1  0.638789  0.786845         1.0       0.0         1.0         0.0   \n",
      "2 -0.284663 -0.488854         1.0       0.0         0.0         0.0   \n",
      "3  0.407926  0.420730         1.0       0.0         0.0         0.0   \n",
      "4  0.407926 -0.486337         0.0       1.0         0.0         0.0   \n",
      "\n",
      "   Embarked_S  Pclass_1  Pclass_2  Pclass_3  ...  LastName_Yousseff  \\\n",
      "0         1.0       0.0       0.0       1.0  ...                0.0   \n",
      "1         0.0       1.0       0.0       0.0  ...                0.0   \n",
      "2         1.0       0.0       0.0       1.0  ...                0.0   \n",
      "3         1.0       1.0       0.0       0.0  ...                0.0   \n",
      "4         1.0       0.0       0.0       1.0  ...                0.0   \n",
      "\n",
      "   LastName_Yrois  LastName_Zabour  LastName_Zimmerman  \\\n",
      "0             0.0              0.0                 0.0   \n",
      "1             0.0              0.0                 0.0   \n",
      "2             0.0              0.0                 0.0   \n",
      "3             0.0              0.0                 0.0   \n",
      "4             0.0              0.0                 0.0   \n",
      "\n",
      "   LastName_de Messemaeker  LastName_de Mulder  LastName_de Pelsmaeker  \\\n",
      "0                      0.0                 0.0                     0.0   \n",
      "1                      0.0                 0.0                     0.0   \n",
      "2                      0.0                 0.0                     0.0   \n",
      "3                      0.0                 0.0                     0.0   \n",
      "4                      0.0                 0.0                     0.0   \n",
      "\n",
      "   LastName_del Carlo  LastName_van Billiard  LastName_van Melkebeke  \n",
      "0                 0.0                    0.0                     0.0  \n",
      "1                 0.0                    0.0                     0.0  \n",
      "2                 0.0                    0.0                     0.0  \n",
      "3                 0.0                    0.0                     0.0  \n",
      "4                 0.0                    0.0                     0.0  \n",
      "\n",
      "[5 rows x 679 columns]\n"
     ]
    }
   ],
   "source": [
    "labels = raw_training[\"Survived\"].copy()\n",
    "new_training = raw_training.drop(\"Survived\", axis=1)\n",
    "\n",
    "class TitanicDataTransformer(BaseEstimator, TransformerMixin):\n",
    "    def __init__(self):\n",
    "        self.numeric_pipeline = Pipeline(steps=[\n",
    "            ('imputer', SimpleImputer()),\n",
    "            ('scaler', StandardScaler())\n",
    "        ])\n",
    "\n",
    "        self.categorical_pipeline = Pipeline(steps=[\n",
    "            ('imputer', SimpleImputer(strategy='most_frequent')),\n",
    "            ('onehot', OneHotEncoder(sparse=False, handle_unknown ='ignore'))\n",
    "        ])\n",
    "\n",
    "        self.namesPipeline = Pipeline(steps=[\n",
    "            ('lastName', RegexTransform()),\n",
    "            ('oneHot', OneHotEncoder(sparse=False, handle_unknown ='ignore'))\n",
    "        ])\n",
    "\n",
    "        self.column_transform = ColumnTransformer(sparse_threshold=0,transformers=[\n",
    "            ('numerical', self.numeric_pipeline, [\"Age\", \"Fare\"]),\n",
    "            ('categorical', self.categorical_pipeline, [\"Sex\", \"Embarked\", \"Pclass\"]),\n",
    "            ('passthrough', \"passthrough\", [\"SibSp\", \"Parch\"]),\n",
    "            ('names', self.namesPipeline, [\"Name\"])\n",
    "        ])\n",
    "    \n",
    "    def fit(self, data, labels=None):\n",
    "        self.column_transform.fit(data, labels)\n",
    "        \n",
    "        self.features = [\"Age\", \"Fare\" ]\n",
    "        name, pipeline, columns = self.column_transform.transformers_[1]\n",
    "        name, transform = pipeline.steps[-1]\n",
    "        self.features += getOneHotEncoderColumns(transform, columns)\n",
    "        self.features += [\"SibSp\", \"Parch\"]\n",
    "        name, pipeline, columns = self.column_transform.transformers_[3] \n",
    "        name, transform = pipeline.steps[-1]\n",
    "        self.features += getOneHotEncoderColumns(transform, columns)\n",
    "        return self\n",
    "    \n",
    "    def transform(self, data):\n",
    "        tmpData = self.column_transform.transform(data)\n",
    "\n",
    "        newNames = [\"Age\", \"Fare\" ]\n",
    "        name, pipeline, columns = self.column_transform.transformers_[1]\n",
    "        name, transform = pipeline.steps[-1]\n",
    "        newNames += getOneHotEncoderColumns(transform, columns)\n",
    "        newNames += [\"SibSp\", \"Parch\"]\n",
    "        name, pipeline, columns = self.column_transform.transformers_[3] \n",
    "        name, transform = pipeline.steps[-1]\n",
    "        newNames += getOneHotEncoderColumns(transform, columns)\n",
    "        \n",
    "        df = pandas.DataFrame(tmpData, columns=newNames)\n",
    "        #dummies = pandas.DataFrame(columns=self.features)\n",
    "        #return pandas.concat((df, dummies)).fillna(0)\n",
    "        return df\n",
    "\n",
    "titanicTransformer = TitanicDataTransformer()\n",
    "clean_training = titanicTransformer.fit_transform(new_training)\n",
    "\n",
    "print(clean_training.head())\n",
    "print(trainingWithNames.head())"
   ]
  },
  {
   "cell_type": "markdown",
   "metadata": {},
   "source": [
    "Good looks like our new version and our old version match. Now lets spruce up that test data."
   ]
  },
  {
   "cell_type": "code",
   "execution_count": 261,
   "metadata": {
    "ExecuteTime": {
     "end_time": "2019-02-12T04:32:43.205324Z",
     "start_time": "2019-02-12T04:32:43.165039Z"
    }
   },
   "outputs": [
    {
     "data": {
      "text/html": [
       "<div>\n",
       "<style scoped>\n",
       "    .dataframe tbody tr th:only-of-type {\n",
       "        vertical-align: middle;\n",
       "    }\n",
       "\n",
       "    .dataframe tbody tr th {\n",
       "        vertical-align: top;\n",
       "    }\n",
       "\n",
       "    .dataframe thead th {\n",
       "        text-align: right;\n",
       "    }\n",
       "</style>\n",
       "<table border=\"1\" class=\"dataframe\">\n",
       "  <thead>\n",
       "    <tr style=\"text-align: right;\">\n",
       "      <th></th>\n",
       "      <th>Age</th>\n",
       "      <th>Fare</th>\n",
       "      <th>Sex_female</th>\n",
       "      <th>Sex_male</th>\n",
       "      <th>Embarked_C</th>\n",
       "      <th>Embarked_Q</th>\n",
       "      <th>Embarked_S</th>\n",
       "      <th>Pclass_1</th>\n",
       "      <th>Pclass_2</th>\n",
       "      <th>Pclass_3</th>\n",
       "      <th>...</th>\n",
       "      <th>Name_Yousseff</th>\n",
       "      <th>Name_Yrois</th>\n",
       "      <th>Name_Zabour</th>\n",
       "      <th>Name_Zimmerman</th>\n",
       "      <th>Name_de Messemaeker</th>\n",
       "      <th>Name_de Mulder</th>\n",
       "      <th>Name_de Pelsmaeker</th>\n",
       "      <th>Name_del Carlo</th>\n",
       "      <th>Name_van Billiard</th>\n",
       "      <th>Name_van Melkebeke</th>\n",
       "    </tr>\n",
       "  </thead>\n",
       "  <tbody>\n",
       "    <tr>\n",
       "      <th>0</th>\n",
       "      <td>0.369449</td>\n",
       "      <td>-0.490783</td>\n",
       "      <td>0.0</td>\n",
       "      <td>1.0</td>\n",
       "      <td>0.0</td>\n",
       "      <td>1.0</td>\n",
       "      <td>0.0</td>\n",
       "      <td>0.0</td>\n",
       "      <td>0.0</td>\n",
       "      <td>1.0</td>\n",
       "      <td>...</td>\n",
       "      <td>0.0</td>\n",
       "      <td>0.0</td>\n",
       "      <td>0.0</td>\n",
       "      <td>0.0</td>\n",
       "      <td>0.0</td>\n",
       "      <td>0.0</td>\n",
       "      <td>0.0</td>\n",
       "      <td>0.0</td>\n",
       "      <td>0.0</td>\n",
       "      <td>0.0</td>\n",
       "    </tr>\n",
       "    <tr>\n",
       "      <th>1</th>\n",
       "      <td>1.331378</td>\n",
       "      <td>-0.507479</td>\n",
       "      <td>1.0</td>\n",
       "      <td>0.0</td>\n",
       "      <td>0.0</td>\n",
       "      <td>0.0</td>\n",
       "      <td>1.0</td>\n",
       "      <td>0.0</td>\n",
       "      <td>0.0</td>\n",
       "      <td>1.0</td>\n",
       "      <td>...</td>\n",
       "      <td>0.0</td>\n",
       "      <td>0.0</td>\n",
       "      <td>0.0</td>\n",
       "      <td>0.0</td>\n",
       "      <td>0.0</td>\n",
       "      <td>0.0</td>\n",
       "      <td>0.0</td>\n",
       "      <td>0.0</td>\n",
       "      <td>0.0</td>\n",
       "      <td>0.0</td>\n",
       "    </tr>\n",
       "    <tr>\n",
       "      <th>2</th>\n",
       "      <td>2.485693</td>\n",
       "      <td>-0.453367</td>\n",
       "      <td>0.0</td>\n",
       "      <td>1.0</td>\n",
       "      <td>0.0</td>\n",
       "      <td>1.0</td>\n",
       "      <td>0.0</td>\n",
       "      <td>0.0</td>\n",
       "      <td>1.0</td>\n",
       "      <td>0.0</td>\n",
       "      <td>...</td>\n",
       "      <td>0.0</td>\n",
       "      <td>0.0</td>\n",
       "      <td>0.0</td>\n",
       "      <td>0.0</td>\n",
       "      <td>0.0</td>\n",
       "      <td>0.0</td>\n",
       "      <td>0.0</td>\n",
       "      <td>0.0</td>\n",
       "      <td>0.0</td>\n",
       "      <td>0.0</td>\n",
       "    </tr>\n",
       "    <tr>\n",
       "      <th>3</th>\n",
       "      <td>-0.207709</td>\n",
       "      <td>-0.474005</td>\n",
       "      <td>0.0</td>\n",
       "      <td>1.0</td>\n",
       "      <td>0.0</td>\n",
       "      <td>0.0</td>\n",
       "      <td>1.0</td>\n",
       "      <td>0.0</td>\n",
       "      <td>0.0</td>\n",
       "      <td>1.0</td>\n",
       "      <td>...</td>\n",
       "      <td>0.0</td>\n",
       "      <td>0.0</td>\n",
       "      <td>0.0</td>\n",
       "      <td>0.0</td>\n",
       "      <td>0.0</td>\n",
       "      <td>0.0</td>\n",
       "      <td>0.0</td>\n",
       "      <td>0.0</td>\n",
       "      <td>0.0</td>\n",
       "      <td>0.0</td>\n",
       "    </tr>\n",
       "    <tr>\n",
       "      <th>4</th>\n",
       "      <td>-0.592481</td>\n",
       "      <td>-0.401017</td>\n",
       "      <td>1.0</td>\n",
       "      <td>0.0</td>\n",
       "      <td>0.0</td>\n",
       "      <td>0.0</td>\n",
       "      <td>1.0</td>\n",
       "      <td>0.0</td>\n",
       "      <td>0.0</td>\n",
       "      <td>1.0</td>\n",
       "      <td>...</td>\n",
       "      <td>0.0</td>\n",
       "      <td>0.0</td>\n",
       "      <td>0.0</td>\n",
       "      <td>0.0</td>\n",
       "      <td>0.0</td>\n",
       "      <td>0.0</td>\n",
       "      <td>0.0</td>\n",
       "      <td>0.0</td>\n",
       "      <td>0.0</td>\n",
       "      <td>0.0</td>\n",
       "    </tr>\n",
       "  </tbody>\n",
       "</table>\n",
       "<p>5 rows × 679 columns</p>\n",
       "</div>"
      ],
      "text/plain": [
       "        Age      Fare  Sex_female  Sex_male  Embarked_C  Embarked_Q  \\\n",
       "0  0.369449 -0.490783         0.0       1.0         0.0         1.0   \n",
       "1  1.331378 -0.507479         1.0       0.0         0.0         0.0   \n",
       "2  2.485693 -0.453367         0.0       1.0         0.0         1.0   \n",
       "3 -0.207709 -0.474005         0.0       1.0         0.0         0.0   \n",
       "4 -0.592481 -0.401017         1.0       0.0         0.0         0.0   \n",
       "\n",
       "   Embarked_S  Pclass_1  Pclass_2  Pclass_3  ...  Name_Yousseff  Name_Yrois  \\\n",
       "0         0.0       0.0       0.0       1.0  ...            0.0         0.0   \n",
       "1         1.0       0.0       0.0       1.0  ...            0.0         0.0   \n",
       "2         0.0       0.0       1.0       0.0  ...            0.0         0.0   \n",
       "3         1.0       0.0       0.0       1.0  ...            0.0         0.0   \n",
       "4         1.0       0.0       0.0       1.0  ...            0.0         0.0   \n",
       "\n",
       "   Name_Zabour  Name_Zimmerman  Name_de Messemaeker  Name_de Mulder  \\\n",
       "0          0.0             0.0                  0.0             0.0   \n",
       "1          0.0             0.0                  0.0             0.0   \n",
       "2          0.0             0.0                  0.0             0.0   \n",
       "3          0.0             0.0                  0.0             0.0   \n",
       "4          0.0             0.0                  0.0             0.0   \n",
       "\n",
       "   Name_de Pelsmaeker  Name_del Carlo  Name_van Billiard  Name_van Melkebeke  \n",
       "0                 0.0             0.0                0.0                 0.0  \n",
       "1                 0.0             0.0                0.0                 0.0  \n",
       "2                 0.0             0.0                0.0                 0.0  \n",
       "3                 0.0             0.0                0.0                 0.0  \n",
       "4                 0.0             0.0                0.0                 0.0  \n",
       "\n",
       "[5 rows x 679 columns]"
      ]
     },
     "execution_count": 261,
     "metadata": {},
     "output_type": "execute_result"
    }
   ],
   "source": [
    "test = titanicTransformer.transform(raw_test)\n",
    "test.head()"
   ]
  },
  {
   "cell_type": "markdown",
   "metadata": {},
   "source": [
    "Excellent, now we are ready to actually make predictions!"
   ]
  },
  {
   "cell_type": "code",
   "execution_count": 266,
   "metadata": {
    "ExecuteTime": {
     "end_time": "2019-02-12T04:37:47.274457Z",
     "start_time": "2019-02-12T04:37:47.249259Z"
    }
   },
   "outputs": [],
   "source": [
    "predictions = best_dt.predict(test)\n",
    "predictions = list(zip(raw_test[\"PassengerId\"], predictions))\n",
    "df = pandas.DataFrame(predictions, columns=[\"PassengerID\", \"Survived\"])\n",
    "df.to_csv('test_predictions.csv', index=False)"
   ]
  },
  {
   "cell_type": "markdown",
   "metadata": {},
   "source": [
    "submitted to kaggle and got the final scoring on my test: 0.77511\n",
    "Not too bad for a first try and my second ML algorithm. Still, plenty of room for improvement"
   ]
  },
  {
   "cell_type": "markdown",
   "metadata": {},
   "source": [
    "### Time/Task Log   | Activity Type: Non-Direct\n",
    "\n",
    "| Date                           | Duration in Minutes       | Specific Task/Activity        |\n",
    "|--------------------------------|---------------------------|-------------------------------|\n",
    "| 1/19/19                        | 180                       | Reading Textbook Chapters 1-3 |\n",
    "| 1/26/19                        | 180                       | Working on Project 1          |\n",
    "| 2/2/19                         | 420                       | Working on Project 1          |\n",
    "| 2/4/19                         | 90                        | Working on Project 1          |\n",
    "| 2/6/19                         | 60                        | Working on Project 1          |\n",
    "| 2/9/19                         | 480                       | Working on Project 1          |\n",
    "| 2/11/19                        | 480                       | Working on Project 1          |\n",
    "|                                                                                            |\n",
    "| Sum for current report         | 1,890                     |                               |\n",
    "| Cumulative sum for this course | 1,890                     |                               |"
   ]
  }
 ],
 "metadata": {
  "kernelspec": {
   "display_name": "Python 3",
   "language": "python",
   "name": "python3"
  },
  "language_info": {
   "codemirror_mode": {
    "name": "ipython",
    "version": 3
   },
   "file_extension": ".py",
   "mimetype": "text/x-python",
   "name": "python",
   "nbconvert_exporter": "python",
   "pygments_lexer": "ipython3",
   "version": "3.7.2"
  },
  "notify_time": "0",
  "varInspector": {
   "cols": {
    "lenName": 16,
    "lenType": 16,
    "lenVar": "60"
   },
   "kernels_config": {
    "python": {
     "delete_cmd_postfix": "",
     "delete_cmd_prefix": "del ",
     "library": "var_list.py",
     "varRefreshCmd": "print(var_dic_list())"
    },
    "r": {
     "delete_cmd_postfix": ") ",
     "delete_cmd_prefix": "rm(",
     "library": "var_list.r",
     "varRefreshCmd": "cat(var_dic_list()) "
    }
   },
   "oldHeight": 308.85,
   "position": {
    "height": "281.85px",
    "left": "769px",
    "right": "18px",
    "top": "112px",
    "width": "680px"
   },
   "types_to_exclude": [
    "module",
    "function",
    "builtin_function_or_method",
    "instance",
    "_Feature"
   ],
   "varInspector_section_display": "block",
   "window_display": false
  }
 },
 "nbformat": 4,
 "nbformat_minor": 2
}
