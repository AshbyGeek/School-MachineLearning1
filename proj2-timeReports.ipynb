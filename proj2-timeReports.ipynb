{
 "cells": [
  {
   "cell_type": "markdown",
   "metadata": {},
   "source": [
    "# <center>Indirect Time Report - Derek Byrnes</center>\n",
    "\n",
    "**Date**|**Activity**|**Time**\n",
    ":-----:|:-----:|:-----:\n",
    "1/10/2019|Reading Chapter 1|120\n",
    "1/12/2019|Reading Chapter 2|120\n",
    "1/14/2019|Reading Chapter 3|120\n",
    "1/20/2019|Working on project|90\n",
    "2/6/2019|Working on project|120\n",
    "2/7/2019|Working on project|240\n",
    "2/10/2019|Working on project|240\n",
    "2/11/2019|Working on project|180\n",
    "2/24/2019|Reading Chapter 4|160\n",
    "2/27/2019|Reading Chapter 5|180\n",
    "3/5/2019|Working on project|240\n",
    "3/8/2019|Working on project|240\n",
    "3/15/2019|Working on project|180\n",
    "3/16/2019|Working on project|120\n",
    "3/17/2019|Working on project|120\n",
    " |Total Time|2470"
   ]
  },
  {
   "cell_type": "markdown",
   "metadata": {},
   "source": [
    "# <center>Indirect Time Report - Daniel Ashby</center>\n",
    "\n",
    "**Date**|**Duration**|**Duration in Minutes**|**Collaborator(s)**|**Specific Task/Activity**\n",
    ":-----:|:-----:|:-----:|:-----:|:-----:\n",
    "1/19/19|3:00|180|-|Reading Textbook Chapters 1-3\n",
    "1/26/19|3:00|180|-|Working on Project 1\n",
    "2/2/19|7:00|420|-|Working on Project 1\n",
    "2/4/19|1:30|90|-|Working on Project 1\n",
    "2/6/19|1:00|60|-|Working on Project 1\n",
    "2/9/19|8:00|480|-|Working on Project 1\n",
    "2/11/19|4:00|240|-|Working on Project 1\n",
    " |\n",
    "2/16/19|3:00|180|-|Reading Textbook\n",
    "2/16/19|3:00|180|-|Attempting to set up JupyterHub for collaboration\n",
    "2/23/19|4:00|240|-|Reading Textbook\n",
    "3/2/19|3:00|180|-|Attempting to set up JupyterHub for collaboration\n",
    "3/9/19|6:00|360|Derek Byrne|Improving Titanic scores\n",
    "3/16/19|8:00|480|Derek Byrne|Linear Regression\n",
    "3/18/19|8:00|480|Derek Byrne|Linear Regression, and Support Vector Classification\n",
    " | \n",
    " | \n",
    "Sum for current report|35:00|2,100\n",
    "Cumulative sum for this course|62:30|3,750"
   ]
  },
  {
   "cell_type": "code",
   "execution_count": null,
   "metadata": {},
   "outputs": [],
   "source": []
  }
 ],
 "metadata": {
  "kernelspec": {
   "display_name": "Python 3",
   "language": "python",
   "name": "python3"
  },
  "language_info": {
   "codemirror_mode": {
    "name": "ipython",
    "version": 3
   },
   "file_extension": ".py",
   "mimetype": "text/x-python",
   "name": "python",
   "nbconvert_exporter": "python",
   "pygments_lexer": "ipython3",
   "version": "3.7.2"
  },
  "varInspector": {
   "cols": {
    "lenName": 16,
    "lenType": 16,
    "lenVar": 40
   },
   "kernels_config": {
    "python": {
     "delete_cmd_postfix": "",
     "delete_cmd_prefix": "del ",
     "library": "var_list.py",
     "varRefreshCmd": "print(var_dic_list())"
    },
    "r": {
     "delete_cmd_postfix": ") ",
     "delete_cmd_prefix": "rm(",
     "library": "var_list.r",
     "varRefreshCmd": "cat(var_dic_list()) "
    }
   },
   "types_to_exclude": [
    "module",
    "function",
    "builtin_function_or_method",
    "instance",
    "_Feature"
   ],
   "window_display": false
  }
 },
 "nbformat": 4,
 "nbformat_minor": 2
}
